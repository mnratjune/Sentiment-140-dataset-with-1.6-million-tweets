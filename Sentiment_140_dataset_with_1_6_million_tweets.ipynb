{
  "cells": [
    {
      "cell_type": "markdown",
      "source": [
        "**Step 1: Install And Import Libraries**"
      ],
      "metadata": {
        "id": "v0eEjTAKphGQ"
      }
    },
    {
      "cell_type": "code",
      "execution_count": null,
      "metadata": {
        "id": "ndd-xJTPKuN_"
      },
      "outputs": [],
      "source": [
        "#Sentiment140 dataset with 1.6 million tweets"
      ]
    },
    {
      "cell_type": "code",
      "execution_count": null,
      "metadata": {
        "colab": {
          "base_uri": "https://localhost:8080/"
        },
        "id": "EVZc985USpX2",
        "outputId": "dedf8c77-0f06-43bf-9332-6e9ce17e6c20"
      },
      "outputs": [
        {
          "output_type": "stream",
          "name": "stdout",
          "text": [
            "Looking in indexes: https://pypi.org/simple, https://us-python.pkg.dev/colab-wheels/public/simple/\n",
            "Requirement already satisfied: gensim in /usr/local/lib/python3.7/dist-packages (3.6.0)\n",
            "Collecting gensim\n",
            "  Downloading gensim-4.2.0-cp37-cp37m-manylinux_2_12_x86_64.manylinux2010_x86_64.whl (24.1 MB)\n",
            "\u001b[K     |████████████████████████████████| 24.1 MB 1.3 MB/s \n",
            "\u001b[?25hRequirement already satisfied: scipy>=0.18.1 in /usr/local/lib/python3.7/dist-packages (from gensim) (1.4.1)\n",
            "Requirement already satisfied: numpy>=1.17.0 in /usr/local/lib/python3.7/dist-packages (from gensim) (1.21.6)\n",
            "Requirement already satisfied: smart-open>=1.8.1 in /usr/local/lib/python3.7/dist-packages (from gensim) (6.0.0)\n",
            "Installing collected packages: gensim\n",
            "  Attempting uninstall: gensim\n",
            "    Found existing installation: gensim 3.6.0\n",
            "    Uninstalling gensim-3.6.0:\n",
            "      Successfully uninstalled gensim-3.6.0\n",
            "Successfully installed gensim-4.2.0\n",
            "Looking in indexes: https://pypi.org/simple, https://us-python.pkg.dev/colab-wheels/public/simple/\n",
            "Requirement already satisfied: keras in /usr/local/lib/python3.7/dist-packages (2.8.0)\n",
            "Collecting keras\n",
            "  Downloading keras-2.9.0-py2.py3-none-any.whl (1.6 MB)\n",
            "\u001b[K     |████████████████████████████████| 1.6 MB 4.8 MB/s \n",
            "\u001b[?25hInstalling collected packages: keras\n",
            "  Attempting uninstall: keras\n",
            "    Found existing installation: keras 2.8.0\n",
            "    Uninstalling keras-2.8.0:\n",
            "      Successfully uninstalled keras-2.8.0\n",
            "\u001b[31mERROR: pip's dependency resolver does not currently take into account all the packages that are installed. This behaviour is the source of the following dependency conflicts.\n",
            "tensorflow 2.8.0+zzzcolab20220506162203 requires tf-estimator-nightly==2.8.0.dev2021122109, which is not installed.\n",
            "tensorflow 2.8.0+zzzcolab20220506162203 requires keras<2.9,>=2.8.0rc0, but you have keras 2.9.0 which is incompatible.\u001b[0m\n",
            "Successfully installed keras-2.9.0\n",
            "Looking in indexes: https://pypi.org/simple, https://us-python.pkg.dev/colab-wheels/public/simple/\n",
            "Requirement already satisfied: pandas in /usr/local/lib/python3.7/dist-packages (1.3.5)\n",
            "Requirement already satisfied: numpy>=1.17.3 in /usr/local/lib/python3.7/dist-packages (from pandas) (1.21.6)\n",
            "Requirement already satisfied: python-dateutil>=2.7.3 in /usr/local/lib/python3.7/dist-packages (from pandas) (2.8.2)\n",
            "Requirement already satisfied: pytz>=2017.3 in /usr/local/lib/python3.7/dist-packages (from pandas) (2022.1)\n",
            "Requirement already satisfied: six>=1.5 in /usr/local/lib/python3.7/dist-packages (from python-dateutil>=2.7.3->pandas) (1.15.0)\n",
            "Looking in indexes: https://pypi.org/simple, https://us-python.pkg.dev/colab-wheels/public/simple/\n",
            "Requirement already satisfied: tensorflow in /usr/local/lib/python3.7/dist-packages (2.8.0+zzzcolab20220506162203)\n",
            "Collecting tensorflow\n",
            "  Downloading tensorflow-2.9.1-cp37-cp37m-manylinux_2_17_x86_64.manylinux2014_x86_64.whl (511.7 MB)\n",
            "\u001b[K     |████████████████████████████████| 511.7 MB 6.7 kB/s \n",
            "\u001b[?25hCollecting tensorboard<2.10,>=2.9\n",
            "  Downloading tensorboard-2.9.0-py3-none-any.whl (5.8 MB)\n",
            "\u001b[K     |████████████████████████████████| 5.8 MB 53.4 MB/s \n",
            "\u001b[?25hRequirement already satisfied: six>=1.12.0 in /usr/local/lib/python3.7/dist-packages (from tensorflow) (1.15.0)\n",
            "Requirement already satisfied: termcolor>=1.1.0 in /usr/local/lib/python3.7/dist-packages (from tensorflow) (1.1.0)\n",
            "Requirement already satisfied: wrapt>=1.11.0 in /usr/local/lib/python3.7/dist-packages (from tensorflow) (1.14.1)\n",
            "Requirement already satisfied: h5py>=2.9.0 in /usr/local/lib/python3.7/dist-packages (from tensorflow) (3.1.0)\n",
            "Requirement already satisfied: libclang>=13.0.0 in /usr/local/lib/python3.7/dist-packages (from tensorflow) (14.0.1)\n",
            "Collecting tensorflow-estimator<2.10.0,>=2.9.0rc0\n",
            "  Downloading tensorflow_estimator-2.9.0-py2.py3-none-any.whl (438 kB)\n",
            "\u001b[K     |████████████████████████████████| 438 kB 73.6 MB/s \n",
            "\u001b[?25hRequirement already satisfied: opt-einsum>=2.3.2 in /usr/local/lib/python3.7/dist-packages (from tensorflow) (3.3.0)\n",
            "Requirement already satisfied: grpcio<2.0,>=1.24.3 in /usr/local/lib/python3.7/dist-packages (from tensorflow) (1.46.1)\n",
            "Requirement already satisfied: google-pasta>=0.1.1 in /usr/local/lib/python3.7/dist-packages (from tensorflow) (0.2.0)\n",
            "Requirement already satisfied: protobuf<3.20,>=3.9.2 in /usr/local/lib/python3.7/dist-packages (from tensorflow) (3.17.3)\n",
            "Requirement already satisfied: numpy>=1.20 in /usr/local/lib/python3.7/dist-packages (from tensorflow) (1.21.6)\n",
            "Requirement already satisfied: keras<2.10.0,>=2.9.0rc0 in /usr/local/lib/python3.7/dist-packages (from tensorflow) (2.9.0)\n",
            "Requirement already satisfied: typing-extensions>=3.6.6 in /usr/local/lib/python3.7/dist-packages (from tensorflow) (4.2.0)\n",
            "Requirement already satisfied: keras-preprocessing>=1.1.1 in /usr/local/lib/python3.7/dist-packages (from tensorflow) (1.1.2)\n",
            "Requirement already satisfied: absl-py>=1.0.0 in /usr/local/lib/python3.7/dist-packages (from tensorflow) (1.0.0)\n",
            "Requirement already satisfied: astunparse>=1.6.0 in /usr/local/lib/python3.7/dist-packages (from tensorflow) (1.6.3)\n",
            "Requirement already satisfied: setuptools in /usr/local/lib/python3.7/dist-packages (from tensorflow) (57.4.0)\n",
            "Requirement already satisfied: packaging in /usr/local/lib/python3.7/dist-packages (from tensorflow) (21.3)\n",
            "Requirement already satisfied: tensorflow-io-gcs-filesystem>=0.23.1 in /usr/local/lib/python3.7/dist-packages (from tensorflow) (0.26.0)\n",
            "Collecting flatbuffers<2,>=1.12\n",
            "  Downloading flatbuffers-1.12-py2.py3-none-any.whl (15 kB)\n",
            "Collecting gast<=0.4.0,>=0.2.1\n",
            "  Downloading gast-0.4.0-py3-none-any.whl (9.8 kB)\n",
            "Requirement already satisfied: wheel<1.0,>=0.23.0 in /usr/local/lib/python3.7/dist-packages (from astunparse>=1.6.0->tensorflow) (0.37.1)\n",
            "Requirement already satisfied: cached-property in /usr/local/lib/python3.7/dist-packages (from h5py>=2.9.0->tensorflow) (1.5.2)\n",
            "Requirement already satisfied: werkzeug>=1.0.1 in /usr/local/lib/python3.7/dist-packages (from tensorboard<2.10,>=2.9->tensorflow) (1.0.1)\n",
            "Requirement already satisfied: requests<3,>=2.21.0 in /usr/local/lib/python3.7/dist-packages (from tensorboard<2.10,>=2.9->tensorflow) (2.23.0)\n",
            "Requirement already satisfied: tensorboard-data-server<0.7.0,>=0.6.0 in /usr/local/lib/python3.7/dist-packages (from tensorboard<2.10,>=2.9->tensorflow) (0.6.1)\n",
            "Requirement already satisfied: google-auth-oauthlib<0.5,>=0.4.1 in /usr/local/lib/python3.7/dist-packages (from tensorboard<2.10,>=2.9->tensorflow) (0.4.6)\n",
            "Requirement already satisfied: google-auth<3,>=1.6.3 in /usr/local/lib/python3.7/dist-packages (from tensorboard<2.10,>=2.9->tensorflow) (1.35.0)\n",
            "Requirement already satisfied: tensorboard-plugin-wit>=1.6.0 in /usr/local/lib/python3.7/dist-packages (from tensorboard<2.10,>=2.9->tensorflow) (1.8.1)\n",
            "Requirement already satisfied: markdown>=2.6.8 in /usr/local/lib/python3.7/dist-packages (from tensorboard<2.10,>=2.9->tensorflow) (3.3.7)\n",
            "Requirement already satisfied: pyasn1-modules>=0.2.1 in /usr/local/lib/python3.7/dist-packages (from google-auth<3,>=1.6.3->tensorboard<2.10,>=2.9->tensorflow) (0.2.8)\n",
            "Requirement already satisfied: rsa<5,>=3.1.4 in /usr/local/lib/python3.7/dist-packages (from google-auth<3,>=1.6.3->tensorboard<2.10,>=2.9->tensorflow) (4.8)\n",
            "Requirement already satisfied: cachetools<5.0,>=2.0.0 in /usr/local/lib/python3.7/dist-packages (from google-auth<3,>=1.6.3->tensorboard<2.10,>=2.9->tensorflow) (4.2.4)\n",
            "Requirement already satisfied: requests-oauthlib>=0.7.0 in /usr/local/lib/python3.7/dist-packages (from google-auth-oauthlib<0.5,>=0.4.1->tensorboard<2.10,>=2.9->tensorflow) (1.3.1)\n",
            "Requirement already satisfied: importlib-metadata>=4.4 in /usr/local/lib/python3.7/dist-packages (from markdown>=2.6.8->tensorboard<2.10,>=2.9->tensorflow) (4.11.3)\n",
            "Requirement already satisfied: zipp>=0.5 in /usr/local/lib/python3.7/dist-packages (from importlib-metadata>=4.4->markdown>=2.6.8->tensorboard<2.10,>=2.9->tensorflow) (3.8.0)\n",
            "Requirement already satisfied: pyasn1<0.5.0,>=0.4.6 in /usr/local/lib/python3.7/dist-packages (from pyasn1-modules>=0.2.1->google-auth<3,>=1.6.3->tensorboard<2.10,>=2.9->tensorflow) (0.4.8)\n",
            "Requirement already satisfied: certifi>=2017.4.17 in /usr/local/lib/python3.7/dist-packages (from requests<3,>=2.21.0->tensorboard<2.10,>=2.9->tensorflow) (2022.5.18.1)\n",
            "Requirement already satisfied: urllib3!=1.25.0,!=1.25.1,<1.26,>=1.21.1 in /usr/local/lib/python3.7/dist-packages (from requests<3,>=2.21.0->tensorboard<2.10,>=2.9->tensorflow) (1.24.3)\n",
            "Requirement already satisfied: chardet<4,>=3.0.2 in /usr/local/lib/python3.7/dist-packages (from requests<3,>=2.21.0->tensorboard<2.10,>=2.9->tensorflow) (3.0.4)\n",
            "Requirement already satisfied: idna<3,>=2.5 in /usr/local/lib/python3.7/dist-packages (from requests<3,>=2.21.0->tensorboard<2.10,>=2.9->tensorflow) (2.10)\n",
            "Requirement already satisfied: oauthlib>=3.0.0 in /usr/local/lib/python3.7/dist-packages (from requests-oauthlib>=0.7.0->google-auth-oauthlib<0.5,>=0.4.1->tensorboard<2.10,>=2.9->tensorflow) (3.2.0)\n",
            "Requirement already satisfied: pyparsing!=3.0.5,>=2.0.2 in /usr/local/lib/python3.7/dist-packages (from packaging->tensorflow) (3.0.9)\n",
            "Installing collected packages: tensorflow-estimator, tensorboard, gast, flatbuffers, tensorflow\n",
            "  Attempting uninstall: tensorflow-estimator\n",
            "    Found existing installation: tensorflow-estimator 2.8.0\n",
            "    Uninstalling tensorflow-estimator-2.8.0:\n",
            "      Successfully uninstalled tensorflow-estimator-2.8.0\n",
            "  Attempting uninstall: tensorboard\n",
            "    Found existing installation: tensorboard 2.8.0\n",
            "    Uninstalling tensorboard-2.8.0:\n",
            "      Successfully uninstalled tensorboard-2.8.0\n",
            "  Attempting uninstall: gast\n",
            "    Found existing installation: gast 0.5.3\n",
            "    Uninstalling gast-0.5.3:\n",
            "      Successfully uninstalled gast-0.5.3\n",
            "  Attempting uninstall: flatbuffers\n",
            "    Found existing installation: flatbuffers 2.0\n",
            "    Uninstalling flatbuffers-2.0:\n",
            "      Successfully uninstalled flatbuffers-2.0\n",
            "  Attempting uninstall: tensorflow\n",
            "    Found existing installation: tensorflow 2.8.0+zzzcolab20220506162203\n",
            "    Uninstalling tensorflow-2.8.0+zzzcolab20220506162203:\n",
            "      Successfully uninstalled tensorflow-2.8.0+zzzcolab20220506162203\n",
            "Successfully installed flatbuffers-1.12 gast-0.4.0 tensorboard-2.9.0 tensorflow-2.9.1 tensorflow-estimator-2.9.0\n"
          ]
        }
      ],
      "source": [
        "!pip install gensim --upgrade\n",
        "!pip install keras --upgrade\n",
        "!pip install pandas --upgrade\n",
        "!pip install tensorflow --upgrade"
      ]
    },
    {
      "cell_type": "code",
      "execution_count": null,
      "metadata": {
        "id": "EXG5Hps4SqnQ"
      },
      "outputs": [],
      "source": [
        "# DataFrame\n",
        "import pandas as pd\n",
        "\n",
        "# Matplot\n",
        "import matplotlib.pyplot as plt\n",
        "%matplotlib inline\n",
        "\n",
        "# Scikit-learn\n",
        "from sklearn.model_selection import train_test_split\n",
        "from sklearn.preprocessing import LabelEncoder\n",
        "from sklearn.metrics import confusion_matrix, classification_report, accuracy_score\n",
        "from sklearn.manifold import TSNE\n",
        "from sklearn.feature_extraction.text import TfidfVectorizer\n",
        "\n",
        "# Keras\n",
        "from keras.preprocessing.text import Tokenizer\n",
        "from keras.utils import pad_sequences\n",
        "from keras.models import Sequential\n",
        "from keras.layers import Activation, Dense, Dropout, Embedding, Flatten, Conv1D, MaxPooling1D, LSTM\n",
        "from keras import utils\n",
        "from keras.callbacks import ReduceLROnPlateau, EarlyStopping\n",
        "\n",
        "# nltk - Natural Language Toolkit\n",
        "import nltk\n",
        "from nltk.corpus import stopwords\n",
        "from nltk.stem import SnowballStemmer\n",
        "\n",
        "# Word2vec\n",
        "import gensim\n",
        "#from gensim.test.utils import common_texts\n",
        "from gensim.models import Word2Vec\n",
        "\n",
        "# Utility\n",
        "import re\n",
        "import numpy as np\n",
        "import os\n",
        "from collections import Counter\n",
        "import logging\n",
        "import time\n",
        "import pickle\n",
        "import itertools\n",
        "\n",
        "# Set log\n",
        "logging.basicConfig(format='%(asctime)s : %(levelname)s : %(message)s', level=logging.INFO)"
      ]
    },
    {
      "cell_type": "code",
      "execution_count": null,
      "metadata": {
        "colab": {
          "base_uri": "https://localhost:8080/"
        },
        "id": "ncV30CiFSwvg",
        "outputId": "a48035ea-9c28-4c83-8355-53683e3addec"
      },
      "outputs": [
        {
          "output_type": "stream",
          "name": "stdout",
          "text": [
            "[nltk_data] Downloading package stopwords to /root/nltk_data...\n",
            "[nltk_data]   Unzipping corpora/stopwords.zip.\n"
          ]
        },
        {
          "output_type": "execute_result",
          "data": {
            "text/plain": [
              "True"
            ]
          },
          "metadata": {},
          "execution_count": 4
        }
      ],
      "source": [
        "nltk.download('stopwords')"
      ]
    },
    {
      "cell_type": "markdown",
      "metadata": {
        "id": "rRbL2_ZqS0NN"
      },
      "source": [
        "**Step 2: Setting Parameter**"
      ]
    },
    {
      "cell_type": "code",
      "execution_count": null,
      "metadata": {
        "id": "qdVV1ZhDSxRD"
      },
      "outputs": [],
      "source": [
        "# DATASET\n",
        "DATASET_COLUMNS = [\"target\", \"ids\", \"date\", \"flag\", \"user\", \"text\"]\n",
        "DATASET_ENCODING = \"ISO-8859-1\"\n",
        "TRAIN_SIZE = 0.8\n",
        "\n",
        "# TEXT CLENAING\n",
        "TEXT_CLEANING_RE = \"@\\S+|https?:\\S+|http?:\\S|[^A-Za-z0-9]+\"\n",
        "\n",
        "# WORD2VEC \n",
        "W2V_SIZE = 150\n",
        "W2V_WINDOW = 7\n",
        "W2V_EPOCH = 16\n",
        "W2V_MIN_COUNT = 10\n",
        "\n",
        "# KERAS\n",
        "SEQUENCE_LENGTH = 300\n",
        "EPOCHS = 8\n",
        "BATCH_SIZE = 1024\n",
        "\n",
        "# SENTIMENT\n",
        "POSITIVE = \"POSITIVE\"\n",
        "NEGATIVE = \"NEGATIVE\"\n",
        "NEUTRAL = \"NEUTRAL\"\n",
        "SENTIMENT_THRESHOLDS =(0.4 , 0.7)  \n",
        "\n",
        "# EXPORT\n",
        "KERAS_MODEL = \"model.h5\"\n",
        "WORD2VEC_MODEL = \"model.w2v\"\n",
        "TOKENIZER_MODEL = \"tokenizer.pkl\"\n",
        "ENCODER_MODEL = \"encoder.pkl\""
      ]
    },
    {
      "cell_type": "markdown",
      "source": [
        "**Step 3: Import the Dataset**"
      ],
      "metadata": {
        "id": "_llXFaoNpvqP"
      }
    },
    {
      "cell_type": "code",
      "execution_count": null,
      "metadata": {
        "colab": {
          "base_uri": "https://localhost:8080/"
        },
        "id": "bU-9ruayS3CZ",
        "outputId": "a8a5c300-75c7-4fce-b19b-32d9d03d716e"
      },
      "outputs": [
        {
          "output_type": "stream",
          "name": "stdout",
          "text": [
            "Mounted at /content/drive\n"
          ]
        }
      ],
      "source": [
        "from google.colab import drive\n",
        "drive.mount('/content/drive')"
      ]
    },
    {
      "cell_type": "code",
      "execution_count": null,
      "metadata": {
        "id": "5YHglHK-fCOv"
      },
      "outputs": [],
      "source": [
        "path = '/content/drive/MyDrive/data mining/new dataset/training.1600000.processed.noemoticon.csv'\n",
        "df = pd.read_csv(path, encoding =DATASET_ENCODING , names=DATASET_COLUMNS)"
      ]
    },
    {
      "cell_type": "markdown",
      "source": [
        "**Step 4: Explore the Data**"
      ],
      "metadata": {
        "id": "wS0D0xNNp14f"
      }
    },
    {
      "cell_type": "markdown",
      "source": [
        "**Step 4.1: Get an Overview**"
      ],
      "metadata": {
        "id": "BEkG2QFRp6r_"
      }
    },
    {
      "cell_type": "code",
      "execution_count": null,
      "metadata": {
        "colab": {
          "base_uri": "https://localhost:8080/"
        },
        "id": "mju5BjLOS7k4",
        "outputId": "3294ccf9-320d-4a6f-e5bd-087d73c3e0d1"
      },
      "outputs": [
        {
          "output_type": "stream",
          "name": "stdout",
          "text": [
            "Dataset size: 1600000\n"
          ]
        }
      ],
      "source": [
        "print(\"Dataset size:\", len(df))"
      ]
    },
    {
      "cell_type": "code",
      "execution_count": null,
      "metadata": {
        "colab": {
          "base_uri": "https://localhost:8080/",
          "height": 206
        },
        "id": "89n8lFgpS8Al",
        "outputId": "d043928e-5ecf-4985-fa41-27190d8e96c3"
      },
      "outputs": [
        {
          "output_type": "execute_result",
          "data": {
            "text/plain": [
              "   target         ids                          date      flag  \\\n",
              "0       0  1467810369  Mon Apr 06 22:19:45 PDT 2009  NO_QUERY   \n",
              "1       0  1467810672  Mon Apr 06 22:19:49 PDT 2009  NO_QUERY   \n",
              "2       0  1467810917  Mon Apr 06 22:19:53 PDT 2009  NO_QUERY   \n",
              "3       0  1467811184  Mon Apr 06 22:19:57 PDT 2009  NO_QUERY   \n",
              "4       0  1467811193  Mon Apr 06 22:19:57 PDT 2009  NO_QUERY   \n",
              "\n",
              "              user                                               text  \n",
              "0  _TheSpecialOne_  @switchfoot http://twitpic.com/2y1zl - Awww, t...  \n",
              "1    scotthamilton  is upset that he can't update his Facebook by ...  \n",
              "2         mattycus  @Kenichan I dived many times for the ball. Man...  \n",
              "3          ElleCTF    my whole body feels itchy and like its on fire   \n",
              "4           Karoli  @nationwideclass no, it's not behaving at all....  "
            ],
            "text/html": [
              "\n",
              "  <div id=\"df-30f7bf9b-c2b9-4009-aa90-75ce559c41bf\">\n",
              "    <div class=\"colab-df-container\">\n",
              "      <div>\n",
              "<style scoped>\n",
              "    .dataframe tbody tr th:only-of-type {\n",
              "        vertical-align: middle;\n",
              "    }\n",
              "\n",
              "    .dataframe tbody tr th {\n",
              "        vertical-align: top;\n",
              "    }\n",
              "\n",
              "    .dataframe thead th {\n",
              "        text-align: right;\n",
              "    }\n",
              "</style>\n",
              "<table border=\"1\" class=\"dataframe\">\n",
              "  <thead>\n",
              "    <tr style=\"text-align: right;\">\n",
              "      <th></th>\n",
              "      <th>target</th>\n",
              "      <th>ids</th>\n",
              "      <th>date</th>\n",
              "      <th>flag</th>\n",
              "      <th>user</th>\n",
              "      <th>text</th>\n",
              "    </tr>\n",
              "  </thead>\n",
              "  <tbody>\n",
              "    <tr>\n",
              "      <th>0</th>\n",
              "      <td>0</td>\n",
              "      <td>1467810369</td>\n",
              "      <td>Mon Apr 06 22:19:45 PDT 2009</td>\n",
              "      <td>NO_QUERY</td>\n",
              "      <td>_TheSpecialOne_</td>\n",
              "      <td>@switchfoot http://twitpic.com/2y1zl - Awww, t...</td>\n",
              "    </tr>\n",
              "    <tr>\n",
              "      <th>1</th>\n",
              "      <td>0</td>\n",
              "      <td>1467810672</td>\n",
              "      <td>Mon Apr 06 22:19:49 PDT 2009</td>\n",
              "      <td>NO_QUERY</td>\n",
              "      <td>scotthamilton</td>\n",
              "      <td>is upset that he can't update his Facebook by ...</td>\n",
              "    </tr>\n",
              "    <tr>\n",
              "      <th>2</th>\n",
              "      <td>0</td>\n",
              "      <td>1467810917</td>\n",
              "      <td>Mon Apr 06 22:19:53 PDT 2009</td>\n",
              "      <td>NO_QUERY</td>\n",
              "      <td>mattycus</td>\n",
              "      <td>@Kenichan I dived many times for the ball. Man...</td>\n",
              "    </tr>\n",
              "    <tr>\n",
              "      <th>3</th>\n",
              "      <td>0</td>\n",
              "      <td>1467811184</td>\n",
              "      <td>Mon Apr 06 22:19:57 PDT 2009</td>\n",
              "      <td>NO_QUERY</td>\n",
              "      <td>ElleCTF</td>\n",
              "      <td>my whole body feels itchy and like its on fire</td>\n",
              "    </tr>\n",
              "    <tr>\n",
              "      <th>4</th>\n",
              "      <td>0</td>\n",
              "      <td>1467811193</td>\n",
              "      <td>Mon Apr 06 22:19:57 PDT 2009</td>\n",
              "      <td>NO_QUERY</td>\n",
              "      <td>Karoli</td>\n",
              "      <td>@nationwideclass no, it's not behaving at all....</td>\n",
              "    </tr>\n",
              "  </tbody>\n",
              "</table>\n",
              "</div>\n",
              "      <button class=\"colab-df-convert\" onclick=\"convertToInteractive('df-30f7bf9b-c2b9-4009-aa90-75ce559c41bf')\"\n",
              "              title=\"Convert this dataframe to an interactive table.\"\n",
              "              style=\"display:none;\">\n",
              "        \n",
              "  <svg xmlns=\"http://www.w3.org/2000/svg\" height=\"24px\"viewBox=\"0 0 24 24\"\n",
              "       width=\"24px\">\n",
              "    <path d=\"M0 0h24v24H0V0z\" fill=\"none\"/>\n",
              "    <path d=\"M18.56 5.44l.94 2.06.94-2.06 2.06-.94-2.06-.94-.94-2.06-.94 2.06-2.06.94zm-11 1L8.5 8.5l.94-2.06 2.06-.94-2.06-.94L8.5 2.5l-.94 2.06-2.06.94zm10 10l.94 2.06.94-2.06 2.06-.94-2.06-.94-.94-2.06-.94 2.06-2.06.94z\"/><path d=\"M17.41 7.96l-1.37-1.37c-.4-.4-.92-.59-1.43-.59-.52 0-1.04.2-1.43.59L10.3 9.45l-7.72 7.72c-.78.78-.78 2.05 0 2.83L4 21.41c.39.39.9.59 1.41.59.51 0 1.02-.2 1.41-.59l7.78-7.78 2.81-2.81c.8-.78.8-2.07 0-2.86zM5.41 20L4 18.59l7.72-7.72 1.47 1.35L5.41 20z\"/>\n",
              "  </svg>\n",
              "      </button>\n",
              "      \n",
              "  <style>\n",
              "    .colab-df-container {\n",
              "      display:flex;\n",
              "      flex-wrap:wrap;\n",
              "      gap: 12px;\n",
              "    }\n",
              "\n",
              "    .colab-df-convert {\n",
              "      background-color: #E8F0FE;\n",
              "      border: none;\n",
              "      border-radius: 50%;\n",
              "      cursor: pointer;\n",
              "      display: none;\n",
              "      fill: #1967D2;\n",
              "      height: 32px;\n",
              "      padding: 0 0 0 0;\n",
              "      width: 32px;\n",
              "    }\n",
              "\n",
              "    .colab-df-convert:hover {\n",
              "      background-color: #E2EBFA;\n",
              "      box-shadow: 0px 1px 2px rgba(60, 64, 67, 0.3), 0px 1px 3px 1px rgba(60, 64, 67, 0.15);\n",
              "      fill: #174EA6;\n",
              "    }\n",
              "\n",
              "    [theme=dark] .colab-df-convert {\n",
              "      background-color: #3B4455;\n",
              "      fill: #D2E3FC;\n",
              "    }\n",
              "\n",
              "    [theme=dark] .colab-df-convert:hover {\n",
              "      background-color: #434B5C;\n",
              "      box-shadow: 0px 1px 3px 1px rgba(0, 0, 0, 0.15);\n",
              "      filter: drop-shadow(0px 1px 2px rgba(0, 0, 0, 0.3));\n",
              "      fill: #FFFFFF;\n",
              "    }\n",
              "  </style>\n",
              "\n",
              "      <script>\n",
              "        const buttonEl =\n",
              "          document.querySelector('#df-30f7bf9b-c2b9-4009-aa90-75ce559c41bf button.colab-df-convert');\n",
              "        buttonEl.style.display =\n",
              "          google.colab.kernel.accessAllowed ? 'block' : 'none';\n",
              "\n",
              "        async function convertToInteractive(key) {\n",
              "          const element = document.querySelector('#df-30f7bf9b-c2b9-4009-aa90-75ce559c41bf');\n",
              "          const dataTable =\n",
              "            await google.colab.kernel.invokeFunction('convertToInteractive',\n",
              "                                                     [key], {});\n",
              "          if (!dataTable) return;\n",
              "\n",
              "          const docLinkHtml = 'Like what you see? Visit the ' +\n",
              "            '<a target=\"_blank\" href=https://colab.research.google.com/notebooks/data_table.ipynb>data table notebook</a>'\n",
              "            + ' to learn more about interactive tables.';\n",
              "          element.innerHTML = '';\n",
              "          dataTable['output_type'] = 'display_data';\n",
              "          await google.colab.output.renderOutput(dataTable, element);\n",
              "          const docLink = document.createElement('div');\n",
              "          docLink.innerHTML = docLinkHtml;\n",
              "          element.appendChild(docLink);\n",
              "        }\n",
              "      </script>\n",
              "    </div>\n",
              "  </div>\n",
              "  "
            ]
          },
          "metadata": {},
          "execution_count": 9
        }
      ],
      "source": [
        "df.head(5)"
      ]
    },
    {
      "cell_type": "code",
      "execution_count": null,
      "metadata": {
        "id": "AC0OH5TvS9hn"
      },
      "outputs": [],
      "source": [
        "decode_map = {0: \"NEGATIVE\", 2: \"NEUTRAL\", 4: \"POSITIVE\"}\n",
        "def decode_sentiment(label):\n",
        "    return decode_map[int(label)]"
      ]
    },
    {
      "cell_type": "code",
      "execution_count": null,
      "metadata": {
        "colab": {
          "base_uri": "https://localhost:8080/"
        },
        "id": "C_s78cIrS_KF",
        "outputId": "4d4b8e1e-645c-402c-e961-6c623cf31e36"
      },
      "outputs": [
        {
          "output_type": "stream",
          "name": "stdout",
          "text": [
            "CPU times: user 430 ms, sys: 793 µs, total: 431 ms\n",
            "Wall time: 433 ms\n"
          ]
        }
      ],
      "source": [
        "%%time\n",
        "df.target = df.target.apply(lambda x: decode_sentiment(x))"
      ]
    },
    {
      "cell_type": "markdown",
      "source": [
        "**Step 4.2: Check if the Data Is Balanced**"
      ],
      "metadata": {
        "id": "2r14Jh1XqLFH"
      }
    },
    {
      "cell_type": "code",
      "execution_count": null,
      "metadata": {
        "colab": {
          "base_uri": "https://localhost:8080/",
          "height": 516
        },
        "id": "1ui38wrvTAim",
        "outputId": "4fbe3663-d76b-4c15-d950-4942719434d7"
      },
      "outputs": [
        {
          "output_type": "execute_result",
          "data": {
            "text/plain": [
              "Text(0.5, 1.0, 'Dataset labels distribuition')"
            ]
          },
          "metadata": {},
          "execution_count": 12
        },
        {
          "output_type": "display_data",
          "data": {
            "text/plain": [
              "<Figure size 1152x576 with 1 Axes>"
            ],
            "image/png": "[encoded data removed]"
          },
          "metadata": {
            "needs_background": "light"
          }
        }
      ],
      "source": [
        "target_cnt = Counter(df.target)\n",
        "\n",
        "plt.figure(figsize=(16,8))\n",
        "plt.bar(target_cnt.keys(), target_cnt.values())\n",
        "plt.title(\"Dataset labels distribuition\")"
      ]
    },
    {
      "cell_type": "markdown",
      "metadata": {
        "id": "oYc4iDcqhNRN"
      },
      "source": [
        "**Step 5: Pre-Processing Dataset**"
      ]
    },
    {
      "cell_type": "code",
      "execution_count": null,
      "metadata": {
        "id": "z5sOXNDKTClb"
      },
      "outputs": [],
      "source": [
        "stop_words = stopwords.words(\"english\")\n",
        "stemmer = SnowballStemmer(\"english\")"
      ]
    },
    {
      "cell_type": "code",
      "execution_count": null,
      "metadata": {
        "id": "rkbnt900TELf"
      },
      "outputs": [],
      "source": [
        "def preprocess(text, stem=False):\n",
        "    # Remove link,user and special characters\n",
        "    text = re.sub(TEXT_CLEANING_RE, ' ', str(text).lower()).strip()\n",
        "    tokens = []\n",
        "    for token in text.split():\n",
        "        if token not in stop_words:\n",
        "            if stem:\n",
        "                tokens.append(stemmer.stem(token))\n",
        "            else:\n",
        "                tokens.append(token)\n",
        "    return \" \".join(tokens)"
      ]
    },
    {
      "cell_type": "code",
      "execution_count": null,
      "metadata": {
        "colab": {
          "base_uri": "https://localhost:8080/"
        },
        "id": "0rMUisJsTFud",
        "outputId": "6083883a-b96a-4b74-e669-6cb7e5b636f3"
      },
      "outputs": [
        {
          "output_type": "stream",
          "name": "stdout",
          "text": [
            "CPU times: user 53.1 s, sys: 201 ms, total: 53.3 s\n",
            "Wall time: 53.3 s\n"
          ]
        }
      ],
      "source": [
        "%%time\n",
        "df.text = df.text.apply(lambda x: preprocess(x))"
      ]
    },
    {
      "cell_type": "markdown",
      "source": [
        " **Step 6: Modeling**"
      ],
      "metadata": {
        "id": "B5eCZLbns4x3"
      }
    },
    {
      "cell_type": "markdown",
      "source": [
        "**Step 6.1:Split train and test**"
      ],
      "metadata": {
        "id": "WdYI0oDRtOdW"
      }
    },
    {
      "cell_type": "code",
      "execution_count": null,
      "metadata": {
        "colab": {
          "base_uri": "https://localhost:8080/"
        },
        "id": "ids7Pp5ETHTD",
        "outputId": "c25b9c70-c3c0-40f1-9442-e7e0d7193b73"
      },
      "outputs": [
        {
          "output_type": "stream",
          "name": "stdout",
          "text": [
            "TRAIN size: 1280000\n",
            "TEST size: 320000\n"
          ]
        }
      ],
      "source": [
        "df_train, df_test = train_test_split(df, test_size=1-TRAIN_SIZE, random_state=42)\n",
        "print(\"TRAIN size:\", len(df_train))\n",
        "print(\"TEST size:\", len(df_test))"
      ]
    },
    {
      "cell_type": "markdown",
      "source": [
        "**Step 6.2: Build, Train and Evaluate a Word2Vec**"
      ],
      "metadata": {
        "id": "DMMEHQ7xtodC"
      }
    },
    {
      "cell_type": "code",
      "execution_count": null,
      "metadata": {
        "colab": {
          "base_uri": "https://localhost:8080/"
        },
        "id": "WYk2cWXWTLJl",
        "outputId": "b99b94b9-b1ab-4fe5-f8d5-ed87067a29c6"
      },
      "outputs": [
        {
          "output_type": "stream",
          "name": "stdout",
          "text": [
            "CPU times: user 2.82 s, sys: 325 ms, total: 3.15 s\n",
            "Wall time: 3.14 s\n"
          ]
        }
      ],
      "source": [
        "%%time\n",
        "documents = [_text.split() for _text in df_train.text] "
      ]
    },
    {
      "cell_type": "code",
      "execution_count": null,
      "metadata": {
        "id": "wrUFpQZrTQ6Z",
        "colab": {
          "base_uri": "https://localhost:8080/"
        },
        "outputId": "a3c179e4-f4e5-463d-c3d4-71b6004c30d7"
      },
      "outputs": [
        {
          "output_type": "stream",
          "name": "stderr",
          "text": [
            "2022-05-30 10:20:30,139 : INFO : Word2Vec lifecycle event {'params': 'Word2Vec<vocab=0, vector_size=150, alpha=0.025>', 'datetime': '2022-05-30T10:20:30.139375', 'gensim': '4.2.0', 'python': '3.7.13 (default, Apr 24 2022, 01:04:09) \\n[GCC 7.5.0]', 'platform': 'Linux-5.4.188+-x86_64-with-Ubuntu-18.04-bionic', 'event': 'created'}\n"
          ]
        }
      ],
      "source": [
        "w2v_model = gensim.models.word2vec.Word2Vec(vector_size=W2V_SIZE, \n",
        "                                            window=W2V_WINDOW, \n",
        "                                            min_count=W2V_MIN_COUNT, \n",
        "                                            workers=8)"
      ]
    },
    {
      "cell_type": "code",
      "execution_count": null,
      "metadata": {
        "colab": {
          "base_uri": "https://localhost:8080/"
        },
        "id": "suOrtyMDTSbX",
        "outputId": "934ff626-2224-4919-c6ed-ae92f3005f56"
      },
      "outputs": [
        {
          "output_type": "stream",
          "name": "stderr",
          "text": [
            "2022-05-30 10:20:30,155 : INFO : collecting all words and their counts\n",
            "2022-05-30 10:20:30,157 : INFO : PROGRESS: at sentence #0, processed 0 words, keeping 0 word types\n",
            "2022-05-30 10:20:30,191 : INFO : PROGRESS: at sentence #10000, processed 72565 words, keeping 14005 word types\n",
            "2022-05-30 10:20:30,214 : INFO : PROGRESS: at sentence #20000, processed 144393 words, keeping 21587 word types\n",
            "2022-05-30 10:20:30,235 : INFO : PROGRESS: at sentence #30000, processed 215826 words, keeping 27541 word types\n",
            "2022-05-30 10:20:30,257 : INFO : PROGRESS: at sentence #40000, processed 288271 words, keeping 32764 word types\n",
            "2022-05-30 10:20:30,278 : INFO : PROGRESS: at sentence #50000, processed 359772 words, keeping 37587 word types\n",
            "2022-05-30 10:20:30,300 : INFO : PROGRESS: at sentence #60000, processed 431431 words, keeping 42198 word types\n",
            "2022-05-30 10:20:30,323 : INFO : PROGRESS: at sentence #70000, processed 503103 words, keeping 46458 word types\n",
            "2022-05-30 10:20:30,344 : INFO : PROGRESS: at sentence #80000, processed 575709 words, keeping 50476 word types\n",
            "2022-05-30 10:20:30,367 : INFO : PROGRESS: at sentence #90000, processed 647100 words, keeping 54140 word types\n",
            "2022-05-30 10:20:30,388 : INFO : PROGRESS: at sentence #100000, processed 718681 words, keeping 57777 word types\n",
            "2022-05-30 10:20:30,413 : INFO : PROGRESS: at sentence #110000, processed 790696 words, keeping 61207 word types\n",
            "2022-05-30 10:20:30,435 : INFO : PROGRESS: at sentence #120000, processed 863134 words, keeping 64583 word types\n",
            "2022-05-30 10:20:30,458 : INFO : PROGRESS: at sentence #130000, processed 935111 words, keeping 67865 word types\n",
            "2022-05-30 10:20:30,480 : INFO : PROGRESS: at sentence #140000, processed 1006668 words, keeping 70966 word types\n",
            "2022-05-30 10:20:30,504 : INFO : PROGRESS: at sentence #150000, processed 1078512 words, keeping 74119 word types\n",
            "2022-05-30 10:20:30,527 : INFO : PROGRESS: at sentence #160000, processed 1149914 words, keeping 77187 word types\n",
            "2022-05-30 10:20:30,550 : INFO : PROGRESS: at sentence #170000, processed 1222145 words, keeping 80267 word types\n",
            "2022-05-30 10:20:30,574 : INFO : PROGRESS: at sentence #180000, processed 1294708 words, keeping 83393 word types\n",
            "2022-05-30 10:20:30,596 : INFO : PROGRESS: at sentence #190000, processed 1367608 words, keeping 86329 word types\n",
            "2022-05-30 10:20:30,622 : INFO : PROGRESS: at sentence #200000, processed 1439469 words, keeping 89103 word types\n",
            "2022-05-30 10:20:30,643 : INFO : PROGRESS: at sentence #210000, processed 1512099 words, keeping 91840 word types\n",
            "2022-05-30 10:20:30,667 : INFO : PROGRESS: at sentence #220000, processed 1584149 words, keeping 94636 word types\n",
            "2022-05-30 10:20:30,688 : INFO : PROGRESS: at sentence #230000, processed 1656354 words, keeping 97353 word types\n",
            "2022-05-30 10:20:30,712 : INFO : PROGRESS: at sentence #240000, processed 1728573 words, keeping 99975 word types\n",
            "2022-05-30 10:20:30,735 : INFO : PROGRESS: at sentence #250000, processed 1801102 words, keeping 102594 word types\n",
            "2022-05-30 10:20:30,761 : INFO : PROGRESS: at sentence #260000, processed 1873103 words, keeping 105162 word types\n",
            "2022-05-30 10:20:30,785 : INFO : PROGRESS: at sentence #270000, processed 1945245 words, keeping 107626 word types\n",
            "2022-05-30 10:20:30,809 : INFO : PROGRESS: at sentence #280000, processed 2017163 words, keeping 110141 word types\n",
            "2022-05-30 10:20:30,831 : INFO : PROGRESS: at sentence #290000, processed 2089574 words, keeping 112539 word types\n",
            "2022-05-30 10:20:30,854 : INFO : PROGRESS: at sentence #300000, processed 2160996 words, keeping 114893 word types\n",
            "2022-05-30 10:20:30,876 : INFO : PROGRESS: at sentence #310000, processed 2232913 words, keeping 117298 word types\n",
            "2022-05-30 10:20:30,899 : INFO : PROGRESS: at sentence #320000, processed 2305039 words, keeping 119693 word types\n",
            "2022-05-30 10:20:30,926 : INFO : PROGRESS: at sentence #330000, processed 2377119 words, keeping 122131 word types\n",
            "2022-05-30 10:20:30,949 : INFO : PROGRESS: at sentence #340000, processed 2449370 words, keeping 124416 word types\n",
            "2022-05-30 10:20:30,974 : INFO : PROGRESS: at sentence #350000, processed 2521564 words, keeping 126669 word types\n",
            "2022-05-30 10:20:30,997 : INFO : PROGRESS: at sentence #360000, processed 2593681 words, keeping 128912 word types\n",
            "2022-05-30 10:20:31,022 : INFO : PROGRESS: at sentence #370000, processed 2665692 words, keeping 131135 word types\n",
            "2022-05-30 10:20:31,046 : INFO : PROGRESS: at sentence #380000, processed 2737859 words, keeping 133403 word types\n",
            "2022-05-30 10:20:31,072 : INFO : PROGRESS: at sentence #390000, processed 2809848 words, keeping 135551 word types\n",
            "2022-05-30 10:20:31,098 : INFO : PROGRESS: at sentence #400000, processed 2882438 words, keeping 137742 word types\n",
            "2022-05-30 10:20:31,121 : INFO : PROGRESS: at sentence #410000, processed 2954075 words, keeping 139909 word types\n",
            "2022-05-30 10:20:31,143 : INFO : PROGRESS: at sentence #420000, processed 3026247 words, keeping 142144 word types\n",
            "2022-05-30 10:20:31,170 : INFO : PROGRESS: at sentence #430000, processed 3098659 words, keeping 144364 word types\n",
            "2022-05-30 10:20:31,192 : INFO : PROGRESS: at sentence #440000, processed 3170663 words, keeping 146439 word types\n",
            "2022-05-30 10:20:31,222 : INFO : PROGRESS: at sentence #450000, processed 3243344 words, keeping 148526 word types\n",
            "2022-05-30 10:20:31,246 : INFO : PROGRESS: at sentence #460000, processed 3315466 words, keeping 150610 word types\n",
            "2022-05-30 10:20:31,270 : INFO : PROGRESS: at sentence #470000, processed 3388295 words, keeping 152737 word types\n",
            "2022-05-30 10:20:31,297 : INFO : PROGRESS: at sentence #480000, processed 3460120 words, keeping 154757 word types\n",
            "2022-05-30 10:20:31,320 : INFO : PROGRESS: at sentence #490000, processed 3531883 words, keeping 156825 word types\n",
            "2022-05-30 10:20:31,344 : INFO : PROGRESS: at sentence #500000, processed 3604217 words, keeping 158859 word types\n",
            "2022-05-30 10:20:31,368 : INFO : PROGRESS: at sentence #510000, processed 3676427 words, keeping 160852 word types\n",
            "2022-05-30 10:20:31,393 : INFO : PROGRESS: at sentence #520000, processed 3749045 words, keeping 162863 word types\n",
            "2022-05-30 10:20:31,419 : INFO : PROGRESS: at sentence #530000, processed 3821622 words, keeping 164929 word types\n",
            "2022-05-30 10:20:31,442 : INFO : PROGRESS: at sentence #540000, processed 3893627 words, keeping 166840 word types\n",
            "2022-05-30 10:20:31,467 : INFO : PROGRESS: at sentence #550000, processed 3965477 words, keeping 168799 word types\n",
            "2022-05-30 10:20:31,491 : INFO : PROGRESS: at sentence #560000, processed 4038050 words, keeping 170802 word types\n",
            "2022-05-30 10:20:31,514 : INFO : PROGRESS: at sentence #570000, processed 4110296 words, keeping 172760 word types\n",
            "2022-05-30 10:20:31,537 : INFO : PROGRESS: at sentence #580000, processed 4182385 words, keeping 174635 word types\n",
            "2022-05-30 10:20:31,565 : INFO : PROGRESS: at sentence #590000, processed 4254632 words, keeping 176470 word types\n",
            "2022-05-30 10:20:31,588 : INFO : PROGRESS: at sentence #600000, processed 4326859 words, keeping 178350 word types\n",
            "2022-05-30 10:20:31,610 : INFO : PROGRESS: at sentence #610000, processed 4399183 words, keeping 180290 word types\n",
            "2022-05-30 10:20:31,632 : INFO : PROGRESS: at sentence #620000, processed 4471343 words, keeping 182129 word types\n",
            "2022-05-30 10:20:31,659 : INFO : PROGRESS: at sentence #630000, processed 4543286 words, keeping 184005 word types\n",
            "2022-05-30 10:20:31,682 : INFO : PROGRESS: at sentence #640000, processed 4615780 words, keeping 185835 word types\n",
            "2022-05-30 10:20:31,705 : INFO : PROGRESS: at sentence #650000, processed 4688481 words, keeping 187705 word types\n",
            "2022-05-30 10:20:31,728 : INFO : PROGRESS: at sentence #660000, processed 4760481 words, keeping 189439 word types\n",
            "2022-05-30 10:20:31,752 : INFO : PROGRESS: at sentence #670000, processed 4833024 words, keeping 191232 word types\n",
            "2022-05-30 10:20:31,776 : INFO : PROGRESS: at sentence #680000, processed 4904516 words, keeping 193177 word types\n",
            "2022-05-30 10:20:31,801 : INFO : PROGRESS: at sentence #690000, processed 4976968 words, keeping 194960 word types\n",
            "2022-05-30 10:20:31,825 : INFO : PROGRESS: at sentence #700000, processed 5049412 words, keeping 196725 word types\n",
            "2022-05-30 10:20:31,850 : INFO : PROGRESS: at sentence #710000, processed 5121976 words, keeping 198516 word types\n",
            "2022-05-30 10:20:31,873 : INFO : PROGRESS: at sentence #720000, processed 5193881 words, keeping 200325 word types\n",
            "2022-05-30 10:20:31,896 : INFO : PROGRESS: at sentence #730000, processed 5265467 words, keeping 202133 word types\n",
            "2022-05-30 10:20:31,919 : INFO : PROGRESS: at sentence #740000, processed 5337518 words, keeping 203818 word types\n",
            "2022-05-30 10:20:31,942 : INFO : PROGRESS: at sentence #750000, processed 5409321 words, keeping 205535 word types\n",
            "2022-05-30 10:20:31,964 : INFO : PROGRESS: at sentence #760000, processed 5481512 words, keeping 207282 word types\n",
            "2022-05-30 10:20:31,987 : INFO : PROGRESS: at sentence #770000, processed 5554093 words, keeping 209076 word types\n",
            "2022-05-30 10:20:32,013 : INFO : PROGRESS: at sentence #780000, processed 5625382 words, keeping 210805 word types\n",
            "2022-05-30 10:20:32,038 : INFO : PROGRESS: at sentence #790000, processed 5698066 words, keeping 212618 word types\n",
            "2022-05-30 10:20:32,064 : INFO : PROGRESS: at sentence #800000, processed 5770880 words, keeping 214374 word types\n",
            "2022-05-30 10:20:32,088 : INFO : PROGRESS: at sentence #810000, processed 5843418 words, keeping 216009 word types\n",
            "2022-05-30 10:20:32,111 : INFO : PROGRESS: at sentence #820000, processed 5915628 words, keeping 217804 word types\n",
            "2022-05-30 10:20:32,134 : INFO : PROGRESS: at sentence #830000, processed 5987499 words, keeping 219585 word types\n",
            "2022-05-30 10:20:32,159 : INFO : PROGRESS: at sentence #840000, processed 6058973 words, keeping 221344 word types\n",
            "2022-05-30 10:20:32,181 : INFO : PROGRESS: at sentence #850000, processed 6131125 words, keeping 223002 word types\n",
            "2022-05-30 10:20:32,209 : INFO : PROGRESS: at sentence #860000, processed 6202951 words, keeping 224643 word types\n",
            "2022-05-30 10:20:32,240 : INFO : PROGRESS: at sentence #870000, processed 6275461 words, keeping 226362 word types\n",
            "2022-05-30 10:20:32,270 : INFO : PROGRESS: at sentence #880000, processed 6347661 words, keeping 227986 word types\n",
            "2022-05-30 10:20:32,293 : INFO : PROGRESS: at sentence #890000, processed 6419806 words, keeping 229634 word types\n",
            "2022-05-30 10:20:32,317 : INFO : PROGRESS: at sentence #900000, processed 6491644 words, keeping 231389 word types\n",
            "2022-05-30 10:20:32,340 : INFO : PROGRESS: at sentence #910000, processed 6564022 words, keeping 233050 word types\n",
            "2022-05-30 10:20:32,362 : INFO : PROGRESS: at sentence #920000, processed 6636228 words, keeping 234686 word types\n",
            "2022-05-30 10:20:32,385 : INFO : PROGRESS: at sentence #930000, processed 6708573 words, keeping 236393 word types\n",
            "2022-05-30 10:20:32,407 : INFO : PROGRESS: at sentence #940000, processed 6779956 words, keeping 238052 word types\n",
            "2022-05-30 10:20:32,430 : INFO : PROGRESS: at sentence #950000, processed 6852599 words, keeping 239716 word types\n",
            "2022-05-30 10:20:32,452 : INFO : PROGRESS: at sentence #960000, processed 6924717 words, keeping 241354 word types\n",
            "2022-05-30 10:20:32,475 : INFO : PROGRESS: at sentence #970000, processed 6996992 words, keeping 242980 word types\n",
            "2022-05-30 10:20:32,497 : INFO : PROGRESS: at sentence #980000, processed 7068402 words, keeping 244646 word types\n",
            "2022-05-30 10:20:32,521 : INFO : PROGRESS: at sentence #990000, processed 7140346 words, keeping 246186 word types\n",
            "2022-05-30 10:20:32,547 : INFO : PROGRESS: at sentence #1000000, processed 7211757 words, keeping 247726 word types\n",
            "2022-05-30 10:20:32,569 : INFO : PROGRESS: at sentence #1010000, processed 7283267 words, keeping 249288 word types\n",
            "2022-05-30 10:20:32,594 : INFO : PROGRESS: at sentence #1020000, processed 7355299 words, keeping 250860 word types\n",
            "2022-05-30 10:20:32,616 : INFO : PROGRESS: at sentence #1030000, processed 7426918 words, keeping 252366 word types\n",
            "2022-05-30 10:20:32,639 : INFO : PROGRESS: at sentence #1040000, processed 7498815 words, keeping 253930 word types\n",
            "2022-05-30 10:20:32,662 : INFO : PROGRESS: at sentence #1050000, processed 7570499 words, keeping 255471 word types\n",
            "2022-05-30 10:20:32,687 : INFO : PROGRESS: at sentence #1060000, processed 7643251 words, keeping 257035 word types\n",
            "2022-05-30 10:20:32,710 : INFO : PROGRESS: at sentence #1070000, processed 7714721 words, keeping 258509 word types\n",
            "2022-05-30 10:20:32,735 : INFO : PROGRESS: at sentence #1080000, processed 7787371 words, keeping 260071 word types\n",
            "2022-05-30 10:20:32,762 : INFO : PROGRESS: at sentence #1090000, processed 7859336 words, keeping 261683 word types\n",
            "2022-05-30 10:20:32,786 : INFO : PROGRESS: at sentence #1100000, processed 7932029 words, keeping 263278 word types\n",
            "2022-05-30 10:20:32,811 : INFO : PROGRESS: at sentence #1110000, processed 8004146 words, keeping 264800 word types\n",
            "2022-05-30 10:20:32,834 : INFO : PROGRESS: at sentence #1120000, processed 8075880 words, keeping 266309 word types\n",
            "2022-05-30 10:20:32,858 : INFO : PROGRESS: at sentence #1130000, processed 8148163 words, keeping 267826 word types\n",
            "2022-05-30 10:20:32,882 : INFO : PROGRESS: at sentence #1140000, processed 8220487 words, keeping 269391 word types\n",
            "2022-05-30 10:20:32,905 : INFO : PROGRESS: at sentence #1150000, processed 8292498 words, keeping 270894 word types\n",
            "2022-05-30 10:20:32,930 : INFO : PROGRESS: at sentence #1160000, processed 8363838 words, keeping 272400 word types\n",
            "2022-05-30 10:20:32,953 : INFO : PROGRESS: at sentence #1170000, processed 8435510 words, keeping 273970 word types\n",
            "2022-05-30 10:20:32,980 : INFO : PROGRESS: at sentence #1180000, processed 8507795 words, keeping 275521 word types\n",
            "2022-05-30 10:20:33,004 : INFO : PROGRESS: at sentence #1190000, processed 8579080 words, keeping 277007 word types\n",
            "2022-05-30 10:20:33,028 : INFO : PROGRESS: at sentence #1200000, processed 8650606 words, keeping 278457 word types\n",
            "2022-05-30 10:20:33,052 : INFO : PROGRESS: at sentence #1210000, processed 8721893 words, keeping 279959 word types\n",
            "2022-05-30 10:20:33,076 : INFO : PROGRESS: at sentence #1220000, processed 8793795 words, keeping 281427 word types\n",
            "2022-05-30 10:20:33,104 : INFO : PROGRESS: at sentence #1230000, processed 8865726 words, keeping 282981 word types\n",
            "2022-05-30 10:20:33,126 : INFO : PROGRESS: at sentence #1240000, processed 8938173 words, keeping 284542 word types\n",
            "2022-05-30 10:20:33,149 : INFO : PROGRESS: at sentence #1250000, processed 9010842 words, keeping 286064 word types\n",
            "2022-05-30 10:20:33,175 : INFO : PROGRESS: at sentence #1260000, processed 9083261 words, keeping 287521 word types\n",
            "2022-05-30 10:20:33,200 : INFO : PROGRESS: at sentence #1270000, processed 9155616 words, keeping 288987 word types\n",
            "2022-05-30 10:20:33,225 : INFO : collected 290418 word types from a corpus of 9227204 raw words and 1280000 sentences\n",
            "2022-05-30 10:20:33,226 : INFO : Creating a fresh vocabulary\n",
            "2022-05-30 10:20:33,471 : INFO : Word2Vec lifecycle event {'msg': 'effective_min_count=10 retains 30369 unique words (10.46% of original 290418, drops 260049)', 'datetime': '2022-05-30T10:20:33.471130', 'gensim': '4.2.0', 'python': '3.7.13 (default, Apr 24 2022, 01:04:09) \\n[GCC 7.5.0]', 'platform': 'Linux-5.4.188+-x86_64-with-Ubuntu-18.04-bionic', 'event': 'prepare_vocab'}\n",
            "2022-05-30 10:20:33,472 : INFO : Word2Vec lifecycle event {'msg': 'effective_min_count=10 leaves 8780739 word corpus (95.16% of original 9227204, drops 446465)', 'datetime': '2022-05-30T10:20:33.472712', 'gensim': '4.2.0', 'python': '3.7.13 (default, Apr 24 2022, 01:04:09) \\n[GCC 7.5.0]', 'platform': 'Linux-5.4.188+-x86_64-with-Ubuntu-18.04-bionic', 'event': 'prepare_vocab'}\n",
            "2022-05-30 10:20:33,649 : INFO : deleting the raw counts dictionary of 290418 items\n",
            "2022-05-30 10:20:33,663 : INFO : sample=0.001 downsamples 45 most-common words\n",
            "2022-05-30 10:20:33,666 : INFO : Word2Vec lifecycle event {'msg': 'downsampling leaves estimated 8222658.616429881 word corpus (93.6%% of prior 8780739)', 'datetime': '2022-05-30T10:20:33.666651', 'gensim': '4.2.0', 'python': '3.7.13 (default, Apr 24 2022, 01:04:09) \\n[GCC 7.5.0]', 'platform': 'Linux-5.4.188+-x86_64-with-Ubuntu-18.04-bionic', 'event': 'prepare_vocab'}\n",
            "2022-05-30 10:20:33,980 : INFO : estimated required memory for 30369 words and 150 dimensions: 51627300 bytes\n",
            "2022-05-30 10:20:33,982 : INFO : resetting layer weights\n",
            "2022-05-30 10:20:34,017 : INFO : Word2Vec lifecycle event {'update': False, 'trim_rule': 'None', 'datetime': '2022-05-30T10:20:34.017493', 'gensim': '4.2.0', 'python': '3.7.13 (default, Apr 24 2022, 01:04:09) \\n[GCC 7.5.0]', 'platform': 'Linux-5.4.188+-x86_64-with-Ubuntu-18.04-bionic', 'event': 'build_vocab'}\n"
          ]
        }
      ],
      "source": [
        "w2v_model.build_vocab(documents)"
      ]
    },
    {
      "cell_type": "code",
      "execution_count": null,
      "metadata": {
        "colab": {
          "base_uri": "https://localhost:8080/"
        },
        "id": "1DzmjVm7TU_G",
        "outputId": "d3dcc502-8237-4201-fc31-f2a3b550c046"
      },
      "outputs": [
        {
          "output_type": "stream",
          "name": "stdout",
          "text": [
            "Vocab size 30369\n"
          ]
        }
      ],
      "source": [
        "words = w2v_model.wv.key_to_index.keys()\n",
        "vocab_size = len(words)\n",
        "print(\"Vocab size\", vocab_size)"
      ]
    },
    {
      "cell_type": "code",
      "execution_count": null,
      "metadata": {
        "id": "VUo0PoTfTVbW",
        "colab": {
          "base_uri": "https://localhost:8080/"
        },
        "outputId": "85226075-2529-44c4-baa0-3cb8a0153be3"
      },
      "outputs": [
        {
          "output_type": "stream",
          "name": "stderr",
          "text": [
            "2022-05-30 10:20:34,045 : INFO : Word2Vec lifecycle event {'msg': 'training model with 8 workers on 30369 vocabulary and 150 features, using sg=0 hs=0 sample=0.001 negative=5 window=7 shrink_windows=True', 'datetime': '2022-05-30T10:20:34.045895', 'gensim': '4.2.0', 'python': '3.7.13 (default, Apr 24 2022, 01:04:09) \\n[GCC 7.5.0]', 'platform': 'Linux-5.4.188+-x86_64-with-Ubuntu-18.04-bionic', 'event': 'train'}\n",
            "2022-05-30 10:20:35,066 : INFO : EPOCH 0 - PROGRESS: at 5.11% examples, 416350 words/s, in_qsize 15, out_qsize 0\n",
            "2022-05-30 10:20:36,075 : INFO : EPOCH 0 - PROGRESS: at 10.97% examples, 446924 words/s, in_qsize 16, out_qsize 1\n",
            "2022-05-30 10:20:37,109 : INFO : EPOCH 0 - PROGRESS: at 17.24% examples, 464720 words/s, in_qsize 16, out_qsize 0\n",
            "2022-05-30 10:20:38,117 : INFO : EPOCH 0 - PROGRESS: at 22.76% examples, 461334 words/s, in_qsize 16, out_qsize 0\n",
            "2022-05-30 10:20:39,164 : INFO : EPOCH 0 - PROGRESS: at 29.05% examples, 467966 words/s, in_qsize 15, out_qsize 0\n",
            "2022-05-30 10:20:40,172 : INFO : EPOCH 0 - PROGRESS: at 34.78% examples, 467979 words/s, in_qsize 15, out_qsize 2\n",
            "2022-05-30 10:20:41,184 : INFO : EPOCH 0 - PROGRESS: at 40.94% examples, 472831 words/s, in_qsize 15, out_qsize 0\n",
            "2022-05-30 10:20:42,220 : INFO : EPOCH 0 - PROGRESS: at 46.78% examples, 471718 words/s, in_qsize 13, out_qsize 2\n",
            "2022-05-30 10:20:43,226 : INFO : EPOCH 0 - PROGRESS: at 52.62% examples, 472758 words/s, in_qsize 14, out_qsize 3\n",
            "2022-05-30 10:20:44,254 : INFO : EPOCH 0 - PROGRESS: at 58.58% examples, 473181 words/s, in_qsize 15, out_qsize 3\n",
            "2022-05-30 10:20:45,269 : INFO : EPOCH 0 - PROGRESS: at 64.62% examples, 474604 words/s, in_qsize 16, out_qsize 0\n",
            "2022-05-30 10:20:46,313 : INFO : EPOCH 0 - PROGRESS: at 70.59% examples, 474131 words/s, in_qsize 11, out_qsize 4\n",
            "2022-05-30 10:20:47,323 : INFO : EPOCH 0 - PROGRESS: at 76.77% examples, 476286 words/s, in_qsize 15, out_qsize 0\n",
            "2022-05-30 10:20:48,412 : INFO : EPOCH 0 - PROGRESS: at 83.07% examples, 476159 words/s, in_qsize 16, out_qsize 0\n",
            "2022-05-30 10:20:49,414 : INFO : EPOCH 0 - PROGRESS: at 89.02% examples, 476981 words/s, in_qsize 13, out_qsize 2\n",
            "2022-05-30 10:20:50,434 : INFO : EPOCH 0 - PROGRESS: at 95.12% examples, 477699 words/s, in_qsize 15, out_qsize 0\n",
            "2022-05-30 10:20:51,130 : INFO : EPOCH 0: training on 9227204 raw words (8223413 effective words) took 17.1s, 481756 effective words/s\n",
            "2022-05-30 10:20:52,146 : INFO : EPOCH 1 - PROGRESS: at 5.22% examples, 426480 words/s, in_qsize 15, out_qsize 0\n",
            "2022-05-30 10:20:53,165 : INFO : EPOCH 1 - PROGRESS: at 11.18% examples, 454115 words/s, in_qsize 15, out_qsize 2\n",
            "2022-05-30 10:20:54,210 : INFO : EPOCH 1 - PROGRESS: at 17.24% examples, 461832 words/s, in_qsize 14, out_qsize 1\n",
            "2022-05-30 10:20:55,225 : INFO : EPOCH 1 - PROGRESS: at 23.20% examples, 467060 words/s, in_qsize 16, out_qsize 1\n",
            "2022-05-30 10:20:56,256 : INFO : EPOCH 1 - PROGRESS: at 29.37% examples, 472199 words/s, in_qsize 15, out_qsize 0\n",
            "2022-05-30 10:20:57,324 : INFO : EPOCH 1 - PROGRESS: at 35.21% examples, 468422 words/s, in_qsize 15, out_qsize 0\n",
            "2022-05-30 10:20:58,334 : INFO : EPOCH 1 - PROGRESS: at 41.37% examples, 473211 words/s, in_qsize 16, out_qsize 0\n",
            "2022-05-30 10:20:59,353 : INFO : EPOCH 1 - PROGRESS: at 47.65% examples, 477438 words/s, in_qsize 15, out_qsize 0\n",
            "2022-05-30 10:21:00,391 : INFO : EPOCH 1 - PROGRESS: at 53.16% examples, 474552 words/s, in_qsize 14, out_qsize 5\n",
            "2022-05-30 10:21:01,434 : INFO : EPOCH 1 - PROGRESS: at 59.34% examples, 474431 words/s, in_qsize 14, out_qsize 1\n",
            "2022-05-30 10:21:02,447 : INFO : EPOCH 1 - PROGRESS: at 65.27% examples, 475236 words/s, in_qsize 14, out_qsize 1\n",
            "2022-05-30 10:21:03,448 : INFO : EPOCH 1 - PROGRESS: at 71.45% examples, 477840 words/s, in_qsize 15, out_qsize 0\n",
            "2022-05-30 10:21:04,463 : INFO : EPOCH 1 - PROGRESS: at 77.64% examples, 479529 words/s, in_qsize 13, out_qsize 2\n",
            "2022-05-30 10:21:05,465 : INFO : EPOCH 1 - PROGRESS: at 83.40% examples, 478957 words/s, in_qsize 15, out_qsize 0\n",
            "2022-05-30 10:21:06,468 : INFO : EPOCH 1 - PROGRESS: at 89.13% examples, 478374 words/s, in_qsize 15, out_qsize 3\n",
            "2022-05-30 10:21:07,481 : INFO : EPOCH 1 - PROGRESS: at 95.23% examples, 479226 words/s, in_qsize 15, out_qsize 0\n",
            "2022-05-30 10:21:08,179 : INFO : EPOCH 1: training on 9227204 raw words (8222504 effective words) took 17.0s, 482646 effective words/s\n",
            "2022-05-30 10:21:09,284 : INFO : EPOCH 2 - PROGRESS: at 5.43% examples, 407999 words/s, in_qsize 16, out_qsize 0\n",
            "2022-05-30 10:21:10,292 : INFO : EPOCH 2 - PROGRESS: at 11.40% examples, 445602 words/s, in_qsize 16, out_qsize 0\n",
            "2022-05-30 10:21:11,297 : INFO : EPOCH 2 - PROGRESS: at 17.35% examples, 459017 words/s, in_qsize 15, out_qsize 0\n",
            "2022-05-30 10:21:12,323 : INFO : EPOCH 2 - PROGRESS: at 23.09% examples, 459331 words/s, in_qsize 15, out_qsize 0\n",
            "2022-05-30 10:21:13,353 : INFO : EPOCH 2 - PROGRESS: at 28.61% examples, 455672 words/s, in_qsize 10, out_qsize 6\n",
            "2022-05-30 10:21:14,353 : INFO : EPOCH 2 - PROGRESS: at 34.68% examples, 462671 words/s, in_qsize 16, out_qsize 0\n",
            "2022-05-30 10:21:15,422 : INFO : EPOCH 2 - PROGRESS: at 40.83% examples, 464420 words/s, in_qsize 15, out_qsize 0\n",
            "2022-05-30 10:21:16,462 : INFO : EPOCH 2 - PROGRESS: at 47.10% examples, 468531 words/s, in_qsize 16, out_qsize 0\n",
            "2022-05-30 10:21:17,479 : INFO : EPOCH 2 - PROGRESS: at 53.27% examples, 471911 words/s, in_qsize 16, out_qsize 0\n",
            "2022-05-30 10:21:18,531 : INFO : EPOCH 2 - PROGRESS: at 59.01% examples, 470742 words/s, in_qsize 15, out_qsize 0\n",
            "2022-05-30 10:21:19,534 : INFO : EPOCH 2 - PROGRESS: at 64.95% examples, 471255 words/s, in_qsize 14, out_qsize 2\n",
            "2022-05-30 10:21:20,545 : INFO : EPOCH 2 - PROGRESS: at 70.91% examples, 472393 words/s, in_qsize 15, out_qsize 0\n",
            "2022-05-30 10:21:21,547 : INFO : EPOCH 2 - PROGRESS: at 77.20% examples, 475608 words/s, in_qsize 15, out_qsize 0\n",
            "2022-05-30 10:21:22,553 : INFO : EPOCH 2 - PROGRESS: at 82.96% examples, 475156 words/s, in_qsize 15, out_qsize 0\n",
            "2022-05-30 10:21:23,555 : INFO : EPOCH 2 - PROGRESS: at 89.02% examples, 476621 words/s, in_qsize 14, out_qsize 0\n",
            "2022-05-30 10:21:24,593 : INFO : EPOCH 2 - PROGRESS: at 95.12% examples, 476833 words/s, in_qsize 16, out_qsize 1\n",
            "2022-05-30 10:21:25,314 : INFO : EPOCH 2: training on 9227204 raw words (8222496 effective words) took 17.1s, 480231 effective words/s\n",
            "2022-05-30 10:21:26,433 : INFO : EPOCH 3 - PROGRESS: at 5.65% examples, 426974 words/s, in_qsize 15, out_qsize 3\n",
            "2022-05-30 10:21:27,423 : INFO : EPOCH 3 - PROGRESS: at 11.62% examples, 454689 words/s, in_qsize 15, out_qsize 0\n",
            "2022-05-30 10:21:28,447 : INFO : EPOCH 3 - PROGRESS: at 17.68% examples, 467445 words/s, in_qsize 16, out_qsize 1\n",
            "2022-05-30 10:21:29,452 : INFO : EPOCH 3 - PROGRESS: at 23.74% examples, 472880 words/s, in_qsize 15, out_qsize 0\n",
            "2022-05-30 10:21:30,551 : INFO : EPOCH 3 - PROGRESS: at 30.02% examples, 472300 words/s, in_qsize 14, out_qsize 1\n",
            "2022-05-30 10:21:31,600 : INFO : EPOCH 3 - PROGRESS: at 36.29% examples, 475639 words/s, in_qsize 15, out_qsize 0\n",
            "2022-05-30 10:21:32,604 : INFO : EPOCH 3 - PROGRESS: at 42.24% examples, 477338 words/s, in_qsize 15, out_qsize 0\n",
            "2022-05-30 10:21:33,689 : INFO : EPOCH 3 - PROGRESS: at 48.62% examples, 478278 words/s, in_qsize 16, out_qsize 1\n",
            "2022-05-30 10:21:34,722 : INFO : EPOCH 3 - PROGRESS: at 54.78% examples, 479805 words/s, in_qsize 15, out_qsize 0\n",
            "2022-05-30 10:21:35,727 : INFO : EPOCH 3 - PROGRESS: at 61.07% examples, 483154 words/s, in_qsize 15, out_qsize 0\n",
            "2022-05-30 10:21:36,757 : INFO : EPOCH 3 - PROGRESS: at 66.80% examples, 480897 words/s, in_qsize 15, out_qsize 0\n",
            "2022-05-30 10:21:37,843 : INFO : EPOCH 3 - PROGRESS: at 73.08% examples, 480459 words/s, in_qsize 15, out_qsize 0\n",
            "2022-05-30 10:21:38,899 : INFO : EPOCH 3 - PROGRESS: at 79.49% examples, 481803 words/s, in_qsize 16, out_qsize 0\n",
            "2022-05-30 10:21:39,912 : INFO : EPOCH 3 - PROGRESS: at 85.13% examples, 480076 words/s, in_qsize 16, out_qsize 0\n",
            "2022-05-30 10:21:40,915 : INFO : EPOCH 3 - PROGRESS: at 90.87% examples, 479447 words/s, in_qsize 15, out_qsize 0\n",
            "2022-05-30 10:21:41,919 : INFO : EPOCH 3 - PROGRESS: at 96.64% examples, 478858 words/s, in_qsize 15, out_qsize 0\n",
            "2022-05-30 10:21:42,408 : INFO : EPOCH 3: training on 9227204 raw words (8223073 effective words) took 17.1s, 481380 effective words/s\n",
            "2022-05-30 10:21:43,457 : INFO : EPOCH 4 - PROGRESS: at 5.54% examples, 437973 words/s, in_qsize 16, out_qsize 1\n",
            "2022-05-30 10:21:44,468 : INFO : EPOCH 4 - PROGRESS: at 11.40% examples, 456749 words/s, in_qsize 16, out_qsize 0\n",
            "2022-05-30 10:21:45,550 : INFO : EPOCH 4 - PROGRESS: at 17.46% examples, 457998 words/s, in_qsize 14, out_qsize 1\n",
            "2022-05-30 10:21:46,562 : INFO : EPOCH 4 - PROGRESS: at 23.31% examples, 462389 words/s, in_qsize 14, out_qsize 1\n",
            "2022-05-30 10:21:47,616 : INFO : EPOCH 4 - PROGRESS: at 28.72% examples, 454314 words/s, in_qsize 13, out_qsize 2\n",
            "2022-05-30 10:21:48,617 : INFO : EPOCH 4 - PROGRESS: at 33.59% examples, 445600 words/s, in_qsize 15, out_qsize 0\n",
            "2022-05-30 10:21:49,623 : INFO : EPOCH 4 - PROGRESS: at 38.24% examples, 436555 words/s, in_qsize 15, out_qsize 0\n",
            "2022-05-30 10:21:50,659 : INFO : EPOCH 4 - PROGRESS: at 43.00% examples, 429238 words/s, in_qsize 16, out_qsize 0\n",
            "2022-05-30 10:21:51,762 : INFO : EPOCH 4 - PROGRESS: at 48.19% examples, 424288 words/s, in_qsize 15, out_qsize 0\n",
            "2022-05-30 10:21:52,795 : INFO : EPOCH 4 - PROGRESS: at 52.84% examples, 418985 words/s, in_qsize 15, out_qsize 0\n",
            "2022-05-30 10:21:53,846 : INFO : EPOCH 4 - PROGRESS: at 57.71% examples, 415565 words/s, in_qsize 13, out_qsize 2\n",
            "2022-05-30 10:21:54,925 : INFO : EPOCH 4 - PROGRESS: at 63.11% examples, 415342 words/s, in_qsize 14, out_qsize 1\n",
            "2022-05-30 10:21:55,985 : INFO : EPOCH 4 - PROGRESS: at 68.31% examples, 414643 words/s, in_qsize 15, out_qsize 1\n",
            "2022-05-30 10:21:57,032 : INFO : EPOCH 4 - PROGRESS: at 73.08% examples, 411525 words/s, in_qsize 15, out_qsize 0\n",
            "2022-05-30 10:21:58,066 : INFO : EPOCH 4 - PROGRESS: at 77.52% examples, 407667 words/s, in_qsize 16, out_qsize 5\n",
            "2022-05-30 10:21:59,071 : INFO : EPOCH 4 - PROGRESS: at 82.64% examples, 408217 words/s, in_qsize 15, out_qsize 0\n",
            "2022-05-30 10:22:00,086 : INFO : EPOCH 4 - PROGRESS: at 87.51% examples, 407436 words/s, in_qsize 15, out_qsize 0\n",
            "2022-05-30 10:22:01,150 : INFO : EPOCH 4 - PROGRESS: at 91.74% examples, 402822 words/s, in_qsize 15, out_qsize 0\n",
            "2022-05-30 10:22:02,168 : INFO : EPOCH 4 - PROGRESS: at 96.75% examples, 402795 words/s, in_qsize 15, out_qsize 0\n",
            "2022-05-30 10:22:02,829 : INFO : EPOCH 4: training on 9227204 raw words (8222830 effective words) took 20.4s, 402902 effective words/s\n",
            "2022-05-30 10:22:03,879 : INFO : EPOCH 5 - PROGRESS: at 3.80% examples, 305220 words/s, in_qsize 15, out_qsize 0\n",
            "2022-05-30 10:22:04,894 : INFO : EPOCH 5 - PROGRESS: at 8.15% examples, 328024 words/s, in_qsize 15, out_qsize 0\n",
            "2022-05-30 10:22:05,905 : INFO : EPOCH 5 - PROGRESS: at 12.93% examples, 347939 words/s, in_qsize 15, out_qsize 0\n",
            "2022-05-30 10:22:07,034 : INFO : EPOCH 5 - PROGRESS: at 17.78% examples, 349815 words/s, in_qsize 15, out_qsize 0\n",
            "2022-05-30 10:22:08,040 : INFO : EPOCH 5 - PROGRESS: at 20.81% examples, 330075 words/s, in_qsize 15, out_qsize 1\n",
            "2022-05-30 10:22:09,081 : INFO : EPOCH 5 - PROGRESS: at 25.91% examples, 342147 words/s, in_qsize 15, out_qsize 0\n",
            "2022-05-30 10:22:10,087 : INFO : EPOCH 5 - PROGRESS: at 30.46% examples, 346301 words/s, in_qsize 16, out_qsize 0\n",
            "2022-05-30 10:22:11,137 : INFO : EPOCH 5 - PROGRESS: at 34.89% examples, 346532 words/s, in_qsize 12, out_qsize 3\n",
            "2022-05-30 10:22:12,162 : INFO : EPOCH 5 - PROGRESS: at 39.75% examples, 351423 words/s, in_qsize 15, out_qsize 1\n",
            "2022-05-30 10:22:13,183 : INFO : EPOCH 5 - PROGRESS: at 44.29% examples, 352890 words/s, in_qsize 15, out_qsize 0\n",
            "2022-05-30 10:22:14,187 : INFO : EPOCH 5 - PROGRESS: at 49.06% examples, 356244 words/s, in_qsize 16, out_qsize 0\n",
            "2022-05-30 10:22:15,240 : INFO : EPOCH 5 - PROGRESS: at 53.92% examples, 359057 words/s, in_qsize 15, out_qsize 1\n",
            "2022-05-30 10:22:16,305 : INFO : EPOCH 5 - PROGRESS: at 58.90% examples, 360452 words/s, in_qsize 15, out_qsize 0\n",
            "2022-05-30 10:22:17,363 : INFO : EPOCH 5 - PROGRESS: at 63.54% examples, 360568 words/s, in_qsize 15, out_qsize 0\n",
            "2022-05-30 10:22:18,428 : INFO : EPOCH 5 - PROGRESS: at 68.31% examples, 361480 words/s, in_qsize 15, out_qsize 0\n",
            "2022-05-30 10:22:19,437 : INFO : EPOCH 5 - PROGRESS: at 72.86% examples, 361638 words/s, in_qsize 13, out_qsize 5\n",
            "2022-05-30 10:22:20,467 : INFO : EPOCH 5 - PROGRESS: at 77.63% examples, 362988 words/s, in_qsize 14, out_qsize 3\n",
            "2022-05-30 10:22:21,469 : INFO : EPOCH 5 - PROGRESS: at 82.85% examples, 366196 words/s, in_qsize 15, out_qsize 0\n",
            "2022-05-30 10:22:22,482 : INFO : EPOCH 5 - PROGRESS: at 87.94% examples, 368617 words/s, in_qsize 16, out_qsize 0\n",
            "2022-05-30 10:22:23,495 : INFO : EPOCH 5 - PROGRESS: at 92.61% examples, 369076 words/s, in_qsize 15, out_qsize 0\n",
            "2022-05-30 10:22:24,500 : INFO : EPOCH 5 - PROGRESS: at 97.93% examples, 372093 words/s, in_qsize 15, out_qsize 0\n",
            "2022-05-30 10:22:24,868 : INFO : EPOCH 5: training on 9227204 raw words (8223190 effective words) took 22.0s, 373608 effective words/s\n",
            "2022-05-30 10:22:25,893 : INFO : EPOCH 6 - PROGRESS: at 4.02% examples, 328597 words/s, in_qsize 16, out_qsize 1\n",
            "2022-05-30 10:22:26,914 : INFO : EPOCH 6 - PROGRESS: at 8.91% examples, 360900 words/s, in_qsize 16, out_qsize 0\n",
            "2022-05-30 10:22:28,021 : INFO : EPOCH 6 - PROGRESS: at 12.39% examples, 324321 words/s, in_qsize 12, out_qsize 3\n",
            "2022-05-30 10:22:29,038 : INFO : EPOCH 6 - PROGRESS: at 16.92% examples, 334945 words/s, in_qsize 16, out_qsize 0\n",
            "2022-05-30 10:22:30,072 : INFO : EPOCH 6 - PROGRESS: at 21.79% examples, 345497 words/s, in_qsize 15, out_qsize 0\n",
            "2022-05-30 10:22:31,174 : INFO : EPOCH 6 - PROGRESS: at 26.99% examples, 352977 words/s, in_qsize 14, out_qsize 1\n",
            "2022-05-30 10:22:32,210 : INFO : EPOCH 6 - PROGRESS: at 31.97% examples, 359124 words/s, in_qsize 15, out_qsize 5\n",
            "2022-05-30 10:22:33,257 : INFO : EPOCH 6 - PROGRESS: at 37.27% examples, 366238 words/s, in_qsize 15, out_qsize 0\n",
            "2022-05-30 10:22:34,353 : INFO : EPOCH 6 - PROGRESS: at 42.46% examples, 368998 words/s, in_qsize 15, out_qsize 0\n",
            "2022-05-30 10:22:35,374 : INFO : EPOCH 6 - PROGRESS: at 47.10% examples, 369623 words/s, in_qsize 15, out_qsize 0\n",
            "2022-05-30 10:22:36,409 : INFO : EPOCH 6 - PROGRESS: at 51.43% examples, 367362 words/s, in_qsize 15, out_qsize 0\n",
            "2022-05-30 10:22:37,414 : INFO : EPOCH 6 - PROGRESS: at 55.75% examples, 366372 words/s, in_qsize 15, out_qsize 1\n",
            "2022-05-30 10:22:38,423 : INFO : EPOCH 6 - PROGRESS: at 60.19% examples, 366027 words/s, in_qsize 14, out_qsize 0\n",
            "2022-05-30 10:22:39,517 : INFO : EPOCH 6 - PROGRESS: at 65.27% examples, 367265 words/s, in_qsize 15, out_qsize 0\n",
            "2022-05-30 10:22:40,528 : INFO : EPOCH 6 - PROGRESS: at 70.05% examples, 368580 words/s, in_qsize 15, out_qsize 0\n",
            "2022-05-30 10:22:41,582 : INFO : EPOCH 6 - PROGRESS: at 74.81% examples, 368776 words/s, in_qsize 14, out_qsize 1\n",
            "2022-05-30 10:22:42,593 : INFO : EPOCH 6 - PROGRESS: at 79.27% examples, 368339 words/s, in_qsize 14, out_qsize 1\n",
            "2022-05-30 10:22:43,600 : INFO : EPOCH 6 - PROGRESS: at 84.15% examples, 369954 words/s, in_qsize 15, out_qsize 0\n",
            "2022-05-30 10:22:44,621 : INFO : EPOCH 6 - PROGRESS: at 88.59% examples, 369317 words/s, in_qsize 15, out_qsize 0\n",
            "2022-05-30 10:22:45,623 : INFO : EPOCH 6 - PROGRESS: at 92.61% examples, 367344 words/s, in_qsize 15, out_qsize 0\n",
            "2022-05-30 10:22:46,624 : INFO : EPOCH 6 - PROGRESS: at 97.93% examples, 370495 words/s, in_qsize 15, out_qsize 0\n",
            "2022-05-30 10:22:47,102 : INFO : EPOCH 6: training on 9227204 raw words (8222856 effective words) took 22.2s, 370194 effective words/s\n",
            "2022-05-30 10:22:48,198 : INFO : EPOCH 7 - PROGRESS: at 2.82% examples, 230384 words/s, in_qsize 15, out_qsize 0\n",
            "2022-05-30 10:22:49,208 : INFO : EPOCH 7 - PROGRESS: at 7.27% examples, 296180 words/s, in_qsize 13, out_qsize 2\n",
            "2022-05-30 10:22:50,223 : INFO : EPOCH 7 - PROGRESS: at 11.40% examples, 308760 words/s, in_qsize 15, out_qsize 3\n",
            "2022-05-30 10:22:51,224 : INFO : EPOCH 7 - PROGRESS: at 16.37% examples, 333638 words/s, in_qsize 15, out_qsize 0\n",
            "2022-05-30 10:22:52,232 : INFO : EPOCH 7 - PROGRESS: at 21.46% examples, 349995 words/s, in_qsize 16, out_qsize 0\n",
            "2022-05-30 10:22:53,295 : INFO : EPOCH 7 - PROGRESS: at 27.64% examples, 372976 words/s, in_qsize 15, out_qsize 0\n",
            "2022-05-30 10:22:54,285 : INFO : EPOCH 7 - PROGRESS: at 33.27% examples, 385671 words/s, in_qsize 16, out_qsize 0\n",
            "2022-05-30 10:22:55,316 : INFO : EPOCH 7 - PROGRESS: at 39.11% examples, 395909 words/s, in_qsize 15, out_qsize 1\n",
            "2022-05-30 10:22:56,348 : INFO : EPOCH 7 - PROGRESS: at 45.26% examples, 407743 words/s, in_qsize 16, out_qsize 0\n",
            "2022-05-30 10:22:57,332 : INFO : EPOCH 7 - PROGRESS: at 50.99% examples, 414093 words/s, in_qsize 16, out_qsize 2\n",
            "2022-05-30 10:22:58,357 : INFO : EPOCH 7 - PROGRESS: at 57.16% examples, 421363 words/s, in_qsize 15, out_qsize 0\n",
            "2022-05-30 10:22:59,363 : INFO : EPOCH 7 - PROGRESS: at 63.75% examples, 431174 words/s, in_qsize 14, out_qsize 0\n",
            "2022-05-30 10:23:00,381 : INFO : EPOCH 7 - PROGRESS: at 69.40% examples, 433028 words/s, in_qsize 15, out_qsize 0\n",
            "2022-05-30 10:23:01,434 : INFO : EPOCH 7 - PROGRESS: at 75.57% examples, 436650 words/s, in_qsize 15, out_qsize 0\n",
            "2022-05-30 10:23:02,435 : INFO : EPOCH 7 - PROGRESS: at 81.45% examples, 439532 words/s, in_qsize 14, out_qsize 1\n",
            "2022-05-30 10:23:03,479 : INFO : EPOCH 7 - PROGRESS: at 87.40% examples, 441418 words/s, in_qsize 15, out_qsize 2\n",
            "2022-05-30 10:23:04,480 : INFO : EPOCH 7 - PROGRESS: at 93.48% examples, 444692 words/s, in_qsize 16, out_qsize 0\n",
            "2022-05-30 10:23:05,446 : INFO : EPOCH 7: training on 9227204 raw words (8222850 effective words) took 18.3s, 450490 effective words/s\n",
            "2022-05-30 10:23:06,536 : INFO : EPOCH 8 - PROGRESS: at 5.86% examples, 446615 words/s, in_qsize 15, out_qsize 1\n",
            "2022-05-30 10:23:07,540 : INFO : EPOCH 8 - PROGRESS: at 11.84% examples, 466735 words/s, in_qsize 15, out_qsize 0\n",
            "2022-05-30 10:23:08,561 : INFO : EPOCH 8 - PROGRESS: at 17.89% examples, 473842 words/s, in_qsize 15, out_qsize 0\n",
            "2022-05-30 10:23:09,565 : INFO : EPOCH 8 - PROGRESS: at 23.74% examples, 475133 words/s, in_qsize 14, out_qsize 1\n",
            "2022-05-30 10:23:10,593 : INFO : EPOCH 8 - PROGRESS: at 29.81% examples, 477183 words/s, in_qsize 16, out_qsize 0\n",
            "2022-05-30 10:23:11,598 : INFO : EPOCH 8 - PROGRESS: at 35.86% examples, 480327 words/s, in_qsize 15, out_qsize 1\n",
            "2022-05-30 10:23:12,649 : INFO : EPOCH 8 - PROGRESS: at 41.80% examples, 478286 words/s, in_qsize 15, out_qsize 0\n",
            "2022-05-30 10:23:13,669 : INFO : EPOCH 8 - PROGRESS: at 47.65% examples, 477464 words/s, in_qsize 15, out_qsize 0\n",
            "2022-05-30 10:23:14,677 : INFO : EPOCH 8 - PROGRESS: at 53.48% examples, 477489 words/s, in_qsize 15, out_qsize 0\n",
            "2022-05-30 10:23:15,679 : INFO : EPOCH 8 - PROGRESS: at 59.22% examples, 476923 words/s, in_qsize 14, out_qsize 1\n",
            "2022-05-30 10:23:16,705 : INFO : EPOCH 8 - PROGRESS: at 65.38% examples, 478532 words/s, in_qsize 15, out_qsize 0\n",
            "2022-05-30 10:23:17,709 : INFO : EPOCH 8 - PROGRESS: at 71.45% examples, 480037 words/s, in_qsize 15, out_qsize 0\n",
            "2022-05-30 10:23:18,736 : INFO : EPOCH 8 - PROGRESS: at 77.09% examples, 478295 words/s, in_qsize 15, out_qsize 4\n",
            "2022-05-30 10:23:19,732 : INFO : EPOCH 8 - PROGRESS: at 83.18% examples, 479367 words/s, in_qsize 16, out_qsize 0\n",
            "2022-05-30 10:23:20,745 : INFO : EPOCH 8 - PROGRESS: at 89.34% examples, 480815 words/s, in_qsize 14, out_qsize 1\n",
            "2022-05-30 10:23:21,762 : INFO : EPOCH 8 - PROGRESS: at 95.77% examples, 483019 words/s, in_qsize 15, out_qsize 0\n",
            "2022-05-30 10:23:22,424 : INFO : EPOCH 8: training on 9227204 raw words (8222992 effective words) took 17.0s, 484718 effective words/s\n",
            "2022-05-30 10:23:23,481 : INFO : EPOCH 9 - PROGRESS: at 5.43% examples, 425955 words/s, in_qsize 16, out_qsize 0\n",
            "2022-05-30 10:23:24,496 : INFO : EPOCH 9 - PROGRESS: at 11.73% examples, 467197 words/s, in_qsize 15, out_qsize 0\n",
            "2022-05-30 10:23:25,503 : INFO : EPOCH 9 - PROGRESS: at 17.57% examples, 470513 words/s, in_qsize 15, out_qsize 0\n",
            "2022-05-30 10:23:26,509 : INFO : EPOCH 9 - PROGRESS: at 23.63% examples, 476856 words/s, in_qsize 16, out_qsize 1\n",
            "2022-05-30 10:23:27,592 : INFO : EPOCH 9 - PROGRESS: at 29.59% examples, 471768 words/s, in_qsize 16, out_qsize 0\n",
            "2022-05-30 10:23:28,611 : INFO : EPOCH 9 - PROGRESS: at 35.86% examples, 477594 words/s, in_qsize 15, out_qsize 0\n",
            "2022-05-30 10:23:29,615 : INFO : EPOCH 9 - PROGRESS: at 41.70% examples, 477782 words/s, in_qsize 14, out_qsize 0\n",
            "2022-05-30 10:23:30,702 : INFO : EPOCH 9 - PROGRESS: at 47.75% examples, 475270 words/s, in_qsize 15, out_qsize 0\n",
            "2022-05-30 10:23:31,705 : INFO : EPOCH 9 - PROGRESS: at 53.59% examples, 475755 words/s, in_qsize 15, out_qsize 0\n",
            "2022-05-30 10:23:32,727 : INFO : EPOCH 9 - PROGRESS: at 59.76% examples, 477905 words/s, in_qsize 15, out_qsize 0\n",
            "2022-05-30 10:23:33,748 : INFO : EPOCH 9 - PROGRESS: at 65.82% examples, 478831 words/s, in_qsize 14, out_qsize 1\n",
            "2022-05-30 10:23:34,766 : INFO : EPOCH 9 - PROGRESS: at 71.34% examples, 476336 words/s, in_qsize 13, out_qsize 4\n",
            "2022-05-30 10:23:35,768 : INFO : EPOCH 9 - PROGRESS: at 77.53% examples, 478423 words/s, in_qsize 14, out_qsize 0\n",
            "2022-05-30 10:23:36,799 : INFO : EPOCH 9 - PROGRESS: at 83.51% examples, 478190 words/s, in_qsize 14, out_qsize 1\n",
            "2022-05-30 10:23:37,872 : INFO : EPOCH 9 - PROGRESS: at 89.67% examples, 478256 words/s, in_qsize 15, out_qsize 1\n",
            "2022-05-30 10:23:38,865 : INFO : EPOCH 9 - PROGRESS: at 95.66% examples, 478762 words/s, in_qsize 14, out_qsize 1\n",
            "2022-05-30 10:23:39,515 : INFO : EPOCH 9: training on 9227204 raw words (8223015 effective words) took 17.1s, 481467 effective words/s\n",
            "2022-05-30 10:23:40,583 : INFO : EPOCH 10 - PROGRESS: at 5.54% examples, 429821 words/s, in_qsize 13, out_qsize 2\n",
            "2022-05-30 10:23:41,602 : INFO : EPOCH 10 - PROGRESS: at 11.95% examples, 475439 words/s, in_qsize 13, out_qsize 2\n",
            "2022-05-30 10:23:42,618 : INFO : EPOCH 10 - PROGRESS: at 17.78% examples, 472547 words/s, in_qsize 15, out_qsize 0\n",
            "2022-05-30 10:23:43,683 : INFO : EPOCH 10 - PROGRESS: at 24.06% examples, 475884 words/s, in_qsize 15, out_qsize 0\n",
            "2022-05-30 10:23:44,703 : INFO : EPOCH 10 - PROGRESS: at 30.02% examples, 476803 words/s, in_qsize 15, out_qsize 0\n",
            "2022-05-30 10:23:45,761 : INFO : EPOCH 10 - PROGRESS: at 35.87% examples, 473080 words/s, in_qsize 15, out_qsize 0\n",
            "2022-05-30 10:23:46,813 : INFO : EPOCH 10 - PROGRESS: at 42.24% examples, 476886 words/s, in_qsize 15, out_qsize 0\n",
            "2022-05-30 10:23:47,817 : INFO : EPOCH 10 - PROGRESS: at 48.30% examples, 479280 words/s, in_qsize 15, out_qsize 0\n",
            "2022-05-30 10:23:48,859 : INFO : EPOCH 10 - PROGRESS: at 54.25% examples, 478301 words/s, in_qsize 12, out_qsize 4\n",
            "2022-05-30 10:23:49,863 : INFO : EPOCH 10 - PROGRESS: at 60.52% examples, 481837 words/s, in_qsize 15, out_qsize 0\n",
            "2022-05-30 10:23:50,906 : INFO : EPOCH 10 - PROGRESS: at 66.80% examples, 483022 words/s, in_qsize 15, out_qsize 0\n",
            "2022-05-30 10:23:51,920 : INFO : EPOCH 10 - PROGRESS: at 72.64% examples, 482319 words/s, in_qsize 15, out_qsize 2\n",
            "2022-05-30 10:23:52,931 : INFO : EPOCH 10 - PROGRESS: at 78.95% examples, 484509 words/s, in_qsize 14, out_qsize 1\n",
            "2022-05-30 10:23:53,940 : INFO : EPOCH 10 - PROGRESS: at 84.69% examples, 483344 words/s, in_qsize 12, out_qsize 3\n",
            "2022-05-30 10:23:54,952 : INFO : EPOCH 10 - PROGRESS: at 91.09% examples, 486025 words/s, in_qsize 16, out_qsize 0\n",
            "2022-05-30 10:23:55,943 : INFO : EPOCH 10 - PROGRESS: at 97.18% examples, 486711 words/s, in_qsize 15, out_qsize 1\n",
            "2022-05-30 10:23:56,338 : INFO : EPOCH 10: training on 9227204 raw words (8222697 effective words) took 16.8s, 489132 effective words/s\n",
            "2022-05-30 10:23:57,359 : INFO : EPOCH 11 - PROGRESS: at 5.54% examples, 449821 words/s, in_qsize 15, out_qsize 0\n",
            "2022-05-30 10:23:58,375 : INFO : EPOCH 11 - PROGRESS: at 11.19% examples, 453182 words/s, in_qsize 15, out_qsize 0\n",
            "2022-05-30 10:23:59,400 : INFO : EPOCH 11 - PROGRESS: at 17.46% examples, 470127 words/s, in_qsize 15, out_qsize 0\n",
            "2022-05-30 10:24:00,456 : INFO : EPOCH 11 - PROGRESS: at 23.63% examples, 472918 words/s, in_qsize 15, out_qsize 0\n",
            "2022-05-30 10:24:01,458 : INFO : EPOCH 11 - PROGRESS: at 29.80% examples, 479567 words/s, in_qsize 15, out_qsize 0\n",
            "2022-05-30 10:24:02,481 : INFO : EPOCH 11 - PROGRESS: at 35.97% examples, 482348 words/s, in_qsize 15, out_qsize 0\n",
            "2022-05-30 10:24:03,500 : INFO : EPOCH 11 - PROGRESS: at 41.70% examples, 479589 words/s, in_qsize 15, out_qsize 0\n",
            "2022-05-30 10:24:04,509 : INFO : EPOCH 11 - PROGRESS: at 48.08% examples, 484708 words/s, in_qsize 15, out_qsize 0\n",
            "2022-05-30 10:24:05,523 : INFO : EPOCH 11 - PROGRESS: at 53.81% examples, 482654 words/s, in_qsize 14, out_qsize 1\n",
            "2022-05-30 10:24:06,532 : INFO : EPOCH 11 - PROGRESS: at 60.08% examples, 485619 words/s, in_qsize 15, out_qsize 0\n",
            "2022-05-30 10:24:07,565 : INFO : EPOCH 11 - PROGRESS: at 66.04% examples, 484572 words/s, in_qsize 15, out_qsize 0\n",
            "2022-05-30 10:24:08,567 : INFO : EPOCH 11 - PROGRESS: at 71.99% examples, 484923 words/s, in_qsize 13, out_qsize 2\n",
            "2022-05-30 10:24:09,580 : INFO : EPOCH 11 - PROGRESS: at 78.08% examples, 485448 words/s, in_qsize 16, out_qsize 2\n",
            "2022-05-30 10:24:10,591 : INFO : EPOCH 11 - PROGRESS: at 83.83% examples, 484153 words/s, in_qsize 15, out_qsize 2\n",
            "2022-05-30 10:24:11,667 : INFO : EPOCH 11 - PROGRESS: at 90.44% examples, 485822 words/s, in_qsize 15, out_qsize 1\n",
            "2022-05-30 10:24:12,662 : INFO : EPOCH 11 - PROGRESS: at 96.10% examples, 484347 words/s, in_qsize 16, out_qsize 6\n",
            "2022-05-30 10:24:13,189 : INFO : EPOCH 11: training on 9227204 raw words (8222363 effective words) took 16.8s, 488264 effective words/s\n",
            "2022-05-30 10:24:14,243 : INFO : EPOCH 12 - PROGRESS: at 5.54% examples, 435926 words/s, in_qsize 16, out_qsize 0\n",
            "2022-05-30 10:24:15,244 : INFO : EPOCH 12 - PROGRESS: at 11.29% examples, 453477 words/s, in_qsize 15, out_qsize 3\n",
            "2022-05-30 10:24:16,259 : INFO : EPOCH 12 - PROGRESS: at 17.57% examples, 471686 words/s, in_qsize 16, out_qsize 0\n",
            "2022-05-30 10:24:17,324 : INFO : EPOCH 12 - PROGRESS: at 23.63% examples, 473205 words/s, in_qsize 15, out_qsize 0\n",
            "2022-05-30 10:24:18,321 : INFO : EPOCH 12 - PROGRESS: at 29.48% examples, 473204 words/s, in_qsize 15, out_qsize 0\n",
            "2022-05-30 10:24:19,351 : INFO : EPOCH 12 - PROGRESS: at 35.54% examples, 475049 words/s, in_qsize 15, out_qsize 0\n",
            "2022-05-30 10:24:20,356 : INFO : EPOCH 12 - PROGRESS: at 41.38% examples, 475550 words/s, in_qsize 15, out_qsize 0\n",
            "2022-05-30 10:24:21,356 : INFO : EPOCH 12 - PROGRESS: at 47.54% examples, 479460 words/s, in_qsize 15, out_qsize 0\n",
            "2022-05-30 10:24:22,402 : INFO : EPOCH 12 - PROGRESS: at 53.38% examples, 477232 words/s, in_qsize 15, out_qsize 3\n",
            "2022-05-30 10:24:23,462 : INFO : EPOCH 12 - PROGRESS: at 59.66% examples, 478331 words/s, in_qsize 15, out_qsize 0\n",
            "2022-05-30 10:24:24,487 : INFO : EPOCH 12 - PROGRESS: at 65.72% examples, 479059 words/s, in_qsize 15, out_qsize 0\n",
            "2022-05-30 10:24:25,531 : INFO : EPOCH 12 - PROGRESS: at 71.88% examples, 479683 words/s, in_qsize 15, out_qsize 1\n",
            "2022-05-30 10:24:26,550 : INFO : EPOCH 12 - PROGRESS: at 77.53% examples, 477739 words/s, in_qsize 15, out_qsize 0\n",
            "2022-05-30 10:24:27,615 : INFO : EPOCH 12 - PROGRESS: at 83.72% examples, 477678 words/s, in_qsize 16, out_qsize 1\n",
            "2022-05-30 10:24:28,630 : INFO : EPOCH 12 - PROGRESS: at 89.78% examples, 478570 words/s, in_qsize 16, out_qsize 0\n",
            "2022-05-30 10:24:29,693 : INFO : EPOCH 12 - PROGRESS: at 94.03% examples, 468763 words/s, in_qsize 15, out_qsize 0\n",
            "2022-05-30 10:24:30,716 : INFO : EPOCH 12 - PROGRESS: at 98.58% examples, 462746 words/s, in_qsize 14, out_qsize 0\n",
            "2022-05-30 10:24:30,903 : INFO : EPOCH 12: training on 9227204 raw words (8221842 effective words) took 17.7s, 464460 effective words/s\n",
            "2022-05-30 10:24:31,931 : INFO : EPOCH 13 - PROGRESS: at 5.32% examples, 429524 words/s, in_qsize 16, out_qsize 0\n",
            "2022-05-30 10:24:32,942 : INFO : EPOCH 13 - PROGRESS: at 11.08% examples, 448306 words/s, in_qsize 16, out_qsize 0\n",
            "2022-05-30 10:24:33,995 : INFO : EPOCH 13 - PROGRESS: at 17.35% examples, 462633 words/s, in_qsize 15, out_qsize 0\n",
            "2022-05-30 10:24:35,023 : INFO : EPOCH 13 - PROGRESS: at 23.52% examples, 470554 words/s, in_qsize 14, out_qsize 1\n",
            "2022-05-30 10:24:36,105 : INFO : EPOCH 13 - PROGRESS: at 30.02% examples, 475456 words/s, in_qsize 15, out_qsize 0\n",
            "2022-05-30 10:24:37,168 : INFO : EPOCH 13 - PROGRESS: at 36.29% examples, 477335 words/s, in_qsize 13, out_qsize 3\n",
            "2022-05-30 10:24:38,174 : INFO : EPOCH 13 - PROGRESS: at 42.46% examples, 481127 words/s, in_qsize 14, out_qsize 1\n",
            "2022-05-30 10:24:39,183 : INFO : EPOCH 13 - PROGRESS: at 48.30% examples, 480610 words/s, in_qsize 15, out_qsize 0\n",
            "2022-05-30 10:24:40,191 : INFO : EPOCH 13 - PROGRESS: at 54.56% examples, 484123 words/s, in_qsize 14, out_qsize 0\n",
            "2022-05-30 10:24:41,206 : INFO : EPOCH 13 - PROGRESS: at 60.41% examples, 483139 words/s, in_qsize 13, out_qsize 2\n",
            "2022-05-30 10:24:42,222 : INFO : EPOCH 13 - PROGRESS: at 66.47% examples, 483818 words/s, in_qsize 16, out_qsize 1\n",
            "2022-05-30 10:24:43,230 : INFO : EPOCH 13 - PROGRESS: at 72.43% examples, 484010 words/s, in_qsize 16, out_qsize 0\n",
            "2022-05-30 10:24:44,231 : INFO : EPOCH 13 - PROGRESS: at 78.07% examples, 482388 words/s, in_qsize 16, out_qsize 1\n",
            "2022-05-30 10:24:45,233 : INFO : EPOCH 13 - PROGRESS: at 84.26% examples, 484087 words/s, in_qsize 16, out_qsize 0\n",
            "2022-05-30 10:24:46,240 : INFO : EPOCH 13 - PROGRESS: at 89.78% examples, 481928 words/s, in_qsize 14, out_qsize 1\n",
            "2022-05-30 10:24:47,256 : INFO : EPOCH 13 - PROGRESS: at 95.88% examples, 482464 words/s, in_qsize 15, out_qsize 0\n",
            "2022-05-30 10:24:47,846 : INFO : EPOCH 13: training on 9227204 raw words (8223528 effective words) took 16.9s, 485695 effective words/s\n",
            "2022-05-30 10:24:48,875 : INFO : EPOCH 14 - PROGRESS: at 5.43% examples, 437658 words/s, in_qsize 14, out_qsize 1\n",
            "2022-05-30 10:24:49,921 : INFO : EPOCH 14 - PROGRESS: at 11.62% examples, 462133 words/s, in_qsize 13, out_qsize 2\n",
            "2022-05-30 10:24:50,946 : INFO : EPOCH 14 - PROGRESS: at 17.89% examples, 475771 words/s, in_qsize 15, out_qsize 0\n",
            "2022-05-30 10:24:51,966 : INFO : EPOCH 14 - PROGRESS: at 23.63% examples, 472619 words/s, in_qsize 12, out_qsize 4\n",
            "2022-05-30 10:24:52,967 : INFO : EPOCH 14 - PROGRESS: at 29.48% examples, 474140 words/s, in_qsize 14, out_qsize 2\n",
            "2022-05-30 10:24:54,015 : INFO : EPOCH 14 - PROGRESS: at 35.65% examples, 475839 words/s, in_qsize 9, out_qsize 6\n",
            "2022-05-30 10:24:55,079 : INFO : EPOCH 14 - PROGRESS: at 42.02% examples, 478982 words/s, in_qsize 15, out_qsize 1\n",
            "2022-05-30 10:24:56,111 : INFO : EPOCH 14 - PROGRESS: at 48.19% examples, 480212 words/s, in_qsize 15, out_qsize 0\n",
            "2022-05-30 10:24:57,128 : INFO : EPOCH 14 - PROGRESS: at 54.56% examples, 484288 words/s, in_qsize 15, out_qsize 0\n",
            "2022-05-30 10:24:58,210 : INFO : EPOCH 14 - PROGRESS: at 60.41% examples, 480161 words/s, in_qsize 14, out_qsize 1\n",
            "2022-05-30 10:24:59,278 : INFO : EPOCH 14 - PROGRESS: at 66.69% examples, 481805 words/s, in_qsize 15, out_qsize 1\n",
            "2022-05-30 10:25:00,301 : INFO : EPOCH 14 - PROGRESS: at 72.97% examples, 482512 words/s, in_qsize 16, out_qsize 2\n",
            "2022-05-30 10:25:01,313 : INFO : EPOCH 14 - PROGRESS: at 79.16% examples, 483982 words/s, in_qsize 14, out_qsize 1\n",
            "2022-05-30 10:25:02,348 : INFO : EPOCH 14 - PROGRESS: at 85.45% examples, 485026 words/s, in_qsize 15, out_qsize 0\n",
            "2022-05-30 10:25:03,380 : INFO : EPOCH 14 - PROGRESS: at 91.52% examples, 484900 words/s, in_qsize 15, out_qsize 0\n",
            "2022-05-30 10:25:04,390 : INFO : EPOCH 14 - PROGRESS: at 97.50% examples, 484892 words/s, in_qsize 16, out_qsize 0\n",
            "2022-05-30 10:25:04,707 : INFO : EPOCH 14: training on 9227204 raw words (8222550 effective words) took 16.8s, 487990 effective words/s\n",
            "2022-05-30 10:25:05,756 : INFO : EPOCH 15 - PROGRESS: at 5.43% examples, 433085 words/s, in_qsize 15, out_qsize 1\n",
            "2022-05-30 10:25:06,759 : INFO : EPOCH 15 - PROGRESS: at 11.40% examples, 460137 words/s, in_qsize 14, out_qsize 0\n",
            "2022-05-30 10:25:07,785 : INFO : EPOCH 15 - PROGRESS: at 17.46% examples, 468632 words/s, in_qsize 15, out_qsize 0\n",
            "2022-05-30 10:25:08,840 : INFO : EPOCH 15 - PROGRESS: at 23.63% examples, 471952 words/s, in_qsize 15, out_qsize 0\n",
            "2022-05-30 10:25:09,873 : INFO : EPOCH 15 - PROGRESS: at 29.59% examples, 472407 words/s, in_qsize 15, out_qsize 0\n",
            "2022-05-30 10:25:10,881 : INFO : EPOCH 15 - PROGRESS: at 35.42% examples, 473208 words/s, in_qsize 15, out_qsize 0\n",
            "2022-05-30 10:25:11,890 : INFO : EPOCH 15 - PROGRESS: at 41.26% examples, 473681 words/s, in_qsize 13, out_qsize 2\n",
            "2022-05-30 10:25:12,924 : INFO : EPOCH 15 - PROGRESS: at 47.32% examples, 474793 words/s, in_qsize 16, out_qsize 3\n",
            "2022-05-30 10:25:13,933 : INFO : EPOCH 15 - PROGRESS: at 53.48% examples, 477912 words/s, in_qsize 14, out_qsize 2\n",
            "2022-05-30 10:25:15,012 : INFO : EPOCH 15 - PROGRESS: at 59.76% examples, 478045 words/s, in_qsize 15, out_qsize 1\n",
            "2022-05-30 10:25:16,012 : INFO : EPOCH 15 - PROGRESS: at 65.93% examples, 480656 words/s, in_qsize 15, out_qsize 0\n",
            "2022-05-30 10:25:17,063 : INFO : EPOCH 15 - PROGRESS: at 71.89% examples, 479440 words/s, in_qsize 15, out_qsize 0\n",
            "2022-05-30 10:25:18,151 : INFO : EPOCH 15 - PROGRESS: at 78.29% examples, 479706 words/s, in_qsize 15, out_qsize 0\n",
            "2022-05-30 10:25:19,177 : INFO : EPOCH 15 - PROGRESS: at 84.58% examples, 481390 words/s, in_qsize 16, out_qsize 1\n",
            "2022-05-30 10:25:20,204 : INFO : EPOCH 15 - PROGRESS: at 90.87% examples, 482802 words/s, in_qsize 15, out_qsize 0\n",
            "2022-05-30 10:25:21,229 : INFO : EPOCH 15 - PROGRESS: at 96.96% examples, 483028 words/s, in_qsize 16, out_qsize 2\n",
            "2022-05-30 10:25:21,603 : INFO : EPOCH 15: training on 9227204 raw words (8222548 effective words) took 16.9s, 487189 effective words/s\n",
            "2022-05-30 10:25:21,604 : INFO : Word2Vec lifecycle event {'msg': 'training on 147635264 raw words (131564747 effective words) took 287.6s, 457528 effective words/s', 'datetime': '2022-05-30T10:25:21.604634', 'gensim': '4.2.0', 'python': '3.7.13 (default, Apr 24 2022, 01:04:09) \\n[GCC 7.5.0]', 'platform': 'Linux-5.4.188+-x86_64-with-Ubuntu-18.04-bionic', 'event': 'train'}\n"
          ]
        },
        {
          "output_type": "stream",
          "name": "stdout",
          "text": [
            "CPU times: user 8min 47s, sys: 2.84 s, total: 8min 50s\n",
            "Wall time: 4min 47s\n"
          ]
        },
        {
          "output_type": "execute_result",
          "data": {
            "text/plain": [
              "(131564747, 147635264)"
            ]
          },
          "metadata": {},
          "execution_count": 21
        }
      ],
      "source": [
        "%%time\n",
        "w2v_model.train(documents, total_examples=len(documents), epochs=W2V_EPOCH)"
      ]
    },
    {
      "cell_type": "code",
      "execution_count": null,
      "metadata": {
        "id": "_BB8mMATTXtg",
        "colab": {
          "base_uri": "https://localhost:8080/"
        },
        "outputId": "d7f2e828-b87e-4f82-9d3c-ba22f1b0144f"
      },
      "outputs": [
        {
          "output_type": "execute_result",
          "data": {
            "text/plain": [
              "[('adore', 0.6372788548469543),\n",
              " ('luv', 0.617905855178833),\n",
              " ('loves', 0.6104198694229126),\n",
              " ('loved', 0.5789036154747009),\n",
              " ('looove', 0.5575966238975525),\n",
              " ('loooove', 0.5275892615318298),\n",
              " ('loveee', 0.5248758792877197),\n",
              " ('amazing', 0.5208113789558411),\n",
              " ('loove', 0.5087915062904358),\n",
              " ('lovee', 0.5042241215705872)]"
            ]
          },
          "metadata": {},
          "execution_count": 22
        }
      ],
      "source": [
        "w2v_model.wv.most_similar(\"love\")"
      ]
    },
    {
      "cell_type": "code",
      "source": [
        "w2v_model.wv.most_similar(\"hate\")"
      ],
      "metadata": {
        "id": "MOsQ2j9fS1_Y",
        "colab": {
          "base_uri": "https://localhost:8080/"
        },
        "outputId": "56c1c1fd-c79c-4c67-846e-5bb8d4d35516"
      },
      "execution_count": null,
      "outputs": [
        {
          "output_type": "execute_result",
          "data": {
            "text/plain": [
              "[('hates', 0.6300157308578491),\n",
              " ('dislike', 0.6080014705657959),\n",
              " ('sucks', 0.5865602493286133),\n",
              " ('suck', 0.5803241729736328),\n",
              " ('despise', 0.5426598191261292),\n",
              " ('stupid', 0.5395144820213318),\n",
              " ('h8', 0.5340875387191772),\n",
              " ('hating', 0.5300694704055786),\n",
              " ('ugh', 0.4680060148239136),\n",
              " ('annoying', 0.4613381326198578)]"
            ]
          },
          "metadata": {},
          "execution_count": 23
        }
      ]
    },
    {
      "cell_type": "markdown",
      "source": [
        "**Step 6.3: Preparing data for neural network(LSTM)**"
      ],
      "metadata": {
        "id": "MYmb2eERt7mn"
      }
    },
    {
      "cell_type": "markdown",
      "source": [
        "**Step 6.3.1:Tokenize word**"
      ],
      "metadata": {
        "id": "Ltkmvb0XyBXx"
      }
    },
    {
      "cell_type": "code",
      "execution_count": null,
      "metadata": {
        "id": "GQ2rU9DCTkAy",
        "colab": {
          "base_uri": "https://localhost:8080/"
        },
        "outputId": "9e621380-4df4-4495-9bea-8c1345ed864f"
      },
      "outputs": [
        {
          "output_type": "stream",
          "name": "stdout",
          "text": [
            "Total words 290419\n",
            "CPU times: user 15.9 s, sys: 194 ms, total: 16.1 s\n",
            "Wall time: 16 s\n"
          ]
        }
      ],
      "source": [
        "%%time\n",
        "tokenizer = Tokenizer()\n",
        "tokenizer.fit_on_texts(df_train.text)\n",
        "\n",
        "vocab_size = len(tokenizer.word_index) + 1\n",
        "print(\"Total words\", vocab_size)"
      ]
    },
    {
      "cell_type": "code",
      "execution_count": null,
      "metadata": {
        "id": "L5Yp_25UTkeM",
        "colab": {
          "base_uri": "https://localhost:8080/"
        },
        "outputId": "9a022b99-bc0f-4170-bf2a-c3597c2e78cb"
      },
      "outputs": [
        {
          "output_type": "stream",
          "name": "stdout",
          "text": [
            "CPU times: user 21.5 s, sys: 1.21 s, total: 22.7 s\n",
            "Wall time: 22.7 s\n"
          ]
        }
      ],
      "source": [
        "%%time\n",
        "x_train = pad_sequences(tokenizer.texts_to_sequences(df_train.text), maxlen=SEQUENCE_LENGTH)\n",
        "x_test = pad_sequences(tokenizer.texts_to_sequences(df_test.text), maxlen=SEQUENCE_LENGTH)"
      ]
    },
    {
      "cell_type": "markdown",
      "source": [
        "**Step 6.3.2:Label Encoder**"
      ],
      "metadata": {
        "id": "wNWqe_JOuE4H"
      }
    },
    {
      "cell_type": "code",
      "execution_count": null,
      "metadata": {
        "id": "hHiU17ElTped",
        "colab": {
          "base_uri": "https://localhost:8080/"
        },
        "outputId": "3ecc4bcc-c570-4cdf-a902-10157344ec29"
      },
      "outputs": [
        {
          "output_type": "execute_result",
          "data": {
            "text/plain": [
              "['POSITIVE', 'NEGATIVE', 'NEUTRAL']"
            ]
          },
          "metadata": {},
          "execution_count": 26
        }
      ],
      "source": [
        "labels = df_train.target.unique().tolist()\n",
        "labels.append(NEUTRAL)\n",
        "labels"
      ]
    },
    {
      "cell_type": "code",
      "execution_count": null,
      "metadata": {
        "id": "FRCA9meYTq8W",
        "colab": {
          "base_uri": "https://localhost:8080/"
        },
        "outputId": "90dd947d-8768-4eea-84be-719653d10076"
      },
      "outputs": [
        {
          "output_type": "stream",
          "name": "stdout",
          "text": [
            "y_train (1280000, 1)\n",
            "y_test (320000, 1)\n"
          ]
        }
      ],
      "source": [
        "encoder = LabelEncoder()\n",
        "encoder.fit(df_train.target.tolist())\n",
        "\n",
        "y_train = encoder.transform(df_train.target.tolist())\n",
        "y_test = encoder.transform(df_test.target.tolist())\n",
        "\n",
        "y_train = y_train.reshape(-1,1)\n",
        "y_test = y_test.reshape(-1,1)\n",
        "\n",
        "print(\"y_train\",y_train.shape)\n",
        "print(\"y_test\",y_test.shape)"
      ]
    },
    {
      "cell_type": "code",
      "execution_count": null,
      "metadata": {
        "id": "NAiCPznDTtOn",
        "colab": {
          "base_uri": "https://localhost:8080/"
        },
        "outputId": "e4cfcfbd-46d6-48b9-befc-76abfca0b0da"
      },
      "outputs": [
        {
          "output_type": "stream",
          "name": "stdout",
          "text": [
            "x_train (1280000, 300)\n",
            "y_train (1280000, 1)\n",
            "\n",
            "x_test (320000, 300)\n",
            "y_test (320000, 1)\n"
          ]
        }
      ],
      "source": [
        "print(\"x_train\", x_train.shape)\n",
        "print(\"y_train\", y_train.shape)\n",
        "print()\n",
        "print(\"x_test\", x_test.shape)\n",
        "print(\"y_test\", y_test.shape)"
      ]
    },
    {
      "cell_type": "code",
      "execution_count": null,
      "metadata": {
        "id": "nEwLMSRRTurb",
        "colab": {
          "base_uri": "https://localhost:8080/"
        },
        "outputId": "2a48ed6c-68a9-4ad4-b798-7dff56c30e2f"
      },
      "outputs": [
        {
          "output_type": "execute_result",
          "data": {
            "text/plain": [
              "array([[1],\n",
              "       [1],\n",
              "       [1],\n",
              "       [0],\n",
              "       [1],\n",
              "       [1],\n",
              "       [1],\n",
              "       [1],\n",
              "       [1],\n",
              "       [1]])"
            ]
          },
          "metadata": {},
          "execution_count": 29
        }
      ],
      "source": [
        "y_train[:10]"
      ]
    },
    {
      "cell_type": "markdown",
      "source": [
        "**Step 6.3.3:Create Embedding layer**"
      ],
      "metadata": {
        "id": "HvrIp6YkuSIs"
      }
    },
    {
      "cell_type": "code",
      "execution_count": null,
      "metadata": {
        "id": "sRE6_QyXTyF7",
        "colab": {
          "base_uri": "https://localhost:8080/"
        },
        "outputId": "8f1aaf34-099a-4bf3-bbf5-a0c2eafbaa9b"
      },
      "outputs": [
        {
          "output_type": "stream",
          "name": "stdout",
          "text": [
            "(290419, 150)\n"
          ]
        }
      ],
      "source": [
        "embedding_matrix = np.zeros((vocab_size, W2V_SIZE))\n",
        "for word, i in tokenizer.word_index.items():\n",
        "  if word in w2v_model.wv:\n",
        "    embedding_matrix[i] = w2v_model.wv[word] \n",
        "print(embedding_matrix.shape)"
      ]
    },
    {
      "cell_type": "code",
      "execution_count": null,
      "metadata": {
        "id": "weOdXP3oTzwI"
      },
      "outputs": [],
      "source": [
        "embedding_layer = Embedding(vocab_size, W2V_SIZE, weights=[embedding_matrix], input_length=SEQUENCE_LENGTH, trainable=False)"
      ]
    },
    {
      "cell_type": "markdown",
      "source": [
        "**Step 6.4:  Build Neural Network Model (LSTM)**"
      ],
      "metadata": {
        "id": "9Bq1XVkD0dO4"
      }
    },
    {
      "cell_type": "markdown",
      "source": [
        "**Step 6.4.1: Initial Neural Network Layer**"
      ],
      "metadata": {
        "id": "BmieNwTF23xZ"
      }
    },
    {
      "cell_type": "code",
      "execution_count": null,
      "metadata": {
        "id": "KIINn5cbUCZ5",
        "colab": {
          "base_uri": "https://localhost:8080/"
        },
        "outputId": "85483c5f-50a3-4af1-ab8e-f779d2156c37"
      },
      "outputs": [
        {
          "output_type": "stream",
          "name": "stdout",
          "text": [
            "WARNING:tensorflow:Layer lstm will not use cuDNN kernels since it doesn't meet the criteria. It will use a generic GPU kernel as fallback when running on GPU.\n"
          ]
        },
        {
          "output_type": "stream",
          "name": "stderr",
          "text": [
            "2022-05-30 10:26:03,782 : WARNING : Layer lstm will not use cuDNN kernels since it doesn't meet the criteria. It will use a generic GPU kernel as fallback when running on GPU.\n"
          ]
        },
        {
          "output_type": "stream",
          "name": "stdout",
          "text": [
            "Model: \"sequential\"\n",
            "_________________________________________________________________\n",
            " Layer (type)                Output Shape              Param #   \n",
            "=================================================================\n",
            " embedding (Embedding)       (None, 300, 150)          43562850  \n",
            "                                                                 \n",
            " dropout (Dropout)           (None, 300, 150)          0         \n",
            "                                                                 \n",
            " lstm (LSTM)                 (None, 100)               100400    \n",
            "                                                                 \n",
            " dense (Dense)               (None, 1)                 101       \n",
            "                                                                 \n",
            "=================================================================\n",
            "Total params: 43,663,351\n",
            "Trainable params: 100,501\n",
            "Non-trainable params: 43,562,850\n",
            "_________________________________________________________________\n"
          ]
        }
      ],
      "source": [
        "model = Sequential()\n",
        "model.add(embedding_layer)\n",
        "model.add(Dropout(0.5))\n",
        "model.add(LSTM(100, dropout=0.2, recurrent_dropout=0.2))\n",
        "model.add(Dense(1, activation='sigmoid'))\n",
        "\n",
        "model.summary()"
      ]
    },
    {
      "cell_type": "code",
      "execution_count": null,
      "metadata": {
        "id": "rrgwlZrrUEnq"
      },
      "outputs": [],
      "source": [
        "model.compile(loss='binary_crossentropy',\n",
        "              optimizer=\"adam\",\n",
        "              metrics=['accuracy'])"
      ]
    },
    {
      "cell_type": "markdown",
      "metadata": {
        "id": "rVs1t2wlULpN"
      },
      "source": [
        "**Step 6.4.2: Train Neural Network Model**"
      ]
    },
    {
      "cell_type": "code",
      "execution_count": null,
      "metadata": {
        "id": "YOld8E2DUH8K"
      },
      "outputs": [],
      "source": [
        "callbacks = [ ReduceLROnPlateau(monitor='val_loss', patience=5, cooldown=0),\n",
        "              EarlyStopping(monitor='val_accuracy', min_delta=1e-4, patience=5)]"
      ]
    },
    {
      "cell_type": "code",
      "execution_count": null,
      "metadata": {
        "id": "IfWCMUrUUK2j",
        "colab": {
          "base_uri": "https://localhost:8080/"
        },
        "outputId": "ee6b374a-76f7-45c2-8aa8-8630e50f9a98"
      },
      "outputs": [
        {
          "output_type": "stream",
          "name": "stdout",
          "text": [
            "Epoch 1/8\n",
            "1125/1125 [==============================] - 555s 490ms/step - loss: 0.5145 - accuracy: 0.7426 - val_loss: 0.4706 - val_accuracy: 0.7751 - lr: 0.0010\n",
            "Epoch 2/8\n",
            "1125/1125 [==============================] - 548s 487ms/step - loss: 0.4903 - accuracy: 0.7596 - val_loss: 0.4618 - val_accuracy: 0.7805 - lr: 0.0010\n",
            "Epoch 3/8\n",
            "1125/1125 [==============================] - 544s 484ms/step - loss: 0.4836 - accuracy: 0.7639 - val_loss: 0.4597 - val_accuracy: 0.7824 - lr: 0.0010\n",
            "Epoch 4/8\n",
            "1125/1125 [==============================] - 532s 473ms/step - loss: 0.4803 - accuracy: 0.7661 - val_loss: 0.4568 - val_accuracy: 0.7839 - lr: 0.0010\n",
            "Epoch 5/8\n",
            "1125/1125 [==============================] - 532s 473ms/step - loss: 0.4782 - accuracy: 0.7678 - val_loss: 0.4543 - val_accuracy: 0.7850 - lr: 0.0010\n",
            "Epoch 6/8\n",
            "1125/1125 [==============================] - 529s 471ms/step - loss: 0.4760 - accuracy: 0.7689 - val_loss: 0.4536 - val_accuracy: 0.7856 - lr: 0.0010\n",
            "Epoch 7/8\n",
            "1125/1125 [==============================] - 529s 471ms/step - loss: 0.4747 - accuracy: 0.7696 - val_loss: 0.4543 - val_accuracy: 0.7859 - lr: 0.0010\n",
            "Epoch 8/8\n",
            "1125/1125 [==============================] - 514s 457ms/step - loss: 0.4740 - accuracy: 0.7703 - val_loss: 0.4513 - val_accuracy: 0.7866 - lr: 0.0010\n",
            "CPU times: user 1h 22min 39s, sys: 4min 7s, total: 1h 26min 47s\n",
            "Wall time: 1h 11min 24s\n"
          ]
        }
      ],
      "source": [
        "%%time\n",
        "history = model.fit(x_train, y_train,\n",
        "                    batch_size=BATCH_SIZE,\n",
        "                    epochs=EPOCHS,\n",
        "                    validation_split=0.1,\n",
        "                    verbose=1,\n",
        "                    callbacks=callbacks)"
      ]
    },
    {
      "cell_type": "markdown",
      "metadata": {
        "id": "cV1IkzBXUPtU"
      },
      "source": [
        "**Step 6.4.3: Evaluate Neural Network Model**"
      ]
    },
    {
      "cell_type": "code",
      "execution_count": null,
      "metadata": {
        "id": "y9gl52E0UQJH",
        "colab": {
          "base_uri": "https://localhost:8080/"
        },
        "outputId": "945dc375-9ad3-4881-b9d2-ca0f624bd94a"
      },
      "outputs": [
        {
          "output_type": "stream",
          "name": "stdout",
          "text": [
            "313/313 [==============================] - 28s 88ms/step - loss: 0.4507 - accuracy: 0.7874\n",
            "\n",
            "ACCURACY: 0.7874187231063843\n",
            "LOSS: 0.45073413848876953\n",
            "CPU times: user 27 s, sys: 224 ms, total: 27.2 s\n",
            "Wall time: 41.3 s\n"
          ]
        }
      ],
      "source": [
        "%%time\n",
        "score = model.evaluate(x_test, y_test, batch_size=BATCH_SIZE)\n",
        "print()\n",
        "print(\"ACCURACY:\",score[1])\n",
        "print(\"LOSS:\",score[0])"
      ]
    },
    {
      "cell_type": "code",
      "execution_count": null,
      "metadata": {
        "id": "-lZLJLWTUS_m"
      },
      "outputs": [],
      "source": [
        "acc = history.history['accuracy']\n",
        "val_acc = history.history['val_accuracy']\n",
        "loss = history.history['loss']\n",
        "val_loss = history.history['val_loss']\n",
        " \n",
        "epochs = range(len(acc))\n",
        " \n",
        "plt.plot(epochs, acc, 'b', label='Training acc')\n",
        "plt.plot(epochs, val_acc, 'r', label='Validation acc')\n",
        "plt.title('Training and validation accuracy')\n",
        "plt.legend()\n",
        " \n",
        "plt.figure()\n",
        " \n",
        "plt.plot(epochs, loss, 'b', label='Training loss')\n",
        "plt.plot(epochs, val_loss, 'r', label='Validation loss')\n",
        "plt.title('Training and validation loss')\n",
        "plt.legend()\n",
        " \n",
        "plt.show()"
      ]
    },
    {
      "cell_type": "markdown",
      "metadata": {
        "id": "rThsyIh3UVZW"
      },
      "source": [
        "**Step 6.4.4: Predict Neural Network Model**"
      ]
    },
    {
      "cell_type": "code",
      "execution_count": null,
      "metadata": {
        "id": "XfRLjrCGUV8M"
      },
      "outputs": [],
      "source": [
        "def decode_sentiment(score, include_neutral=True): \n",
        "    if include_neutral:           \n",
        "        label = NEUTRAL\n",
        "        if score <= SENTIMENT_THRESHOLDS[0]:\n",
        "            label = NEGATIVE\n",
        "        elif score >= SENTIMENT_THRESHOLDS[1]:   \n",
        "            label = POSITIVE\n",
        "\n",
        "        return label\n",
        "    else:\n",
        "        return NEGATIVE if score < 0.5 else POSITIVE"
      ]
    },
    {
      "cell_type": "code",
      "execution_count": null,
      "metadata": {
        "id": "m1ZZt0E4UY67"
      },
      "outputs": [],
      "source": [
        "def predict(text, include_neutral=True):\n",
        "    start_at = time.time()\n",
        "    # Tokenize text\n",
        "    x_test = pad_sequences(tokenizer.texts_to_sequences([text]), maxlen=SEQUENCE_LENGTH)\n",
        "    # Predict\n",
        "    score = model.predict([x_test])[0]\n",
        "    # Decode sentiment\n",
        "    label = decode_sentiment(score, include_neutral=include_neutral)\n",
        "\n",
        "    return {\"label\": label, \"score\": float(score),\n",
        "       \"elapsed_time\": time.time()-start_at}  "
      ]
    },
    {
      "cell_type": "code",
      "execution_count": null,
      "metadata": {
        "id": "rbUdT9uIUafy",
        "colab": {
          "base_uri": "https://localhost:8080/"
        },
        "outputId": "7cf83327-7fac-4a37-feba-acb8b819f554"
      },
      "outputs": [
        {
          "output_type": "stream",
          "name": "stdout",
          "text": [
            "1/1 [==============================] - 0s 301ms/step\n"
          ]
        },
        {
          "output_type": "execute_result",
          "data": {
            "text/plain": [
              "{'elapsed_time': 0.34143972396850586,\n",
              " 'label': 'POSITIVE',\n",
              " 'score': 0.9745453000068665}"
            ]
          },
          "metadata": {},
          "execution_count": 40
        }
      ],
      "source": [
        "predict(\"I love the music\")"
      ]
    },
    {
      "cell_type": "code",
      "execution_count": null,
      "metadata": {
        "id": "YB0JYTedUb26",
        "colab": {
          "base_uri": "https://localhost:8080/"
        },
        "outputId": "ad8a8df9-a309-4cca-e6ad-11347a376364"
      },
      "outputs": [
        {
          "output_type": "stream",
          "name": "stdout",
          "text": [
            "1/1 [==============================] - 0s 78ms/step\n"
          ]
        },
        {
          "output_type": "execute_result",
          "data": {
            "text/plain": [
              "{'elapsed_time': 0.18493866920471191,\n",
              " 'label': 'NEGATIVE',\n",
              " 'score': 0.005832131020724773}"
            ]
          },
          "metadata": {},
          "execution_count": 41
        }
      ],
      "source": [
        "predict(\"I hate the rain\")"
      ]
    },
    {
      "cell_type": "code",
      "execution_count": null,
      "metadata": {
        "id": "KNA5LQM8Udlw",
        "colab": {
          "base_uri": "https://localhost:8080/"
        },
        "outputId": "09c8315a-be79-495a-836a-7d8301e86214"
      },
      "outputs": [
        {
          "output_type": "stream",
          "name": "stdout",
          "text": [
            "1/1 [==============================] - 0s 81ms/step\n"
          ]
        },
        {
          "output_type": "execute_result",
          "data": {
            "text/plain": [
              "{'elapsed_time': 0.11629152297973633,\n",
              " 'label': 'NEGATIVE',\n",
              " 'score': 0.3966516852378845}"
            ]
          },
          "metadata": {},
          "execution_count": 42
        }
      ],
      "source": [
        "predict(\"i don't know what i'm doing\")"
      ]
    },
    {
      "cell_type": "code",
      "source": [
        "predict(\"I feel the same\")"
      ],
      "metadata": {
        "colab": {
          "base_uri": "https://localhost:8080/"
        },
        "id": "8KNPuRJmd9Ne",
        "outputId": "b08b089f-fdef-446a-9e27-4b0707039023"
      },
      "execution_count": null,
      "outputs": [
        {
          "output_type": "stream",
          "name": "stdout",
          "text": [
            "1/1 [==============================] - 0s 82ms/step\n"
          ]
        },
        {
          "output_type": "execute_result",
          "data": {
            "text/plain": [
              "{'elapsed_time': 0.1185910701751709,\n",
              " 'label': 'NEGATIVE',\n",
              " 'score': 0.15633949637413025}"
            ]
          },
          "metadata": {},
          "execution_count": 43
        }
      ]
    },
    {
      "cell_type": "code",
      "source": [
        "predict(\"neutral\")"
      ],
      "metadata": {
        "colab": {
          "base_uri": "https://localhost:8080/"
        },
        "id": "QJv0QTEaeFIY",
        "outputId": "ab511e0d-3200-4653-fc88-a72b1c77d07e"
      },
      "execution_count": null,
      "outputs": [
        {
          "output_type": "stream",
          "name": "stdout",
          "text": [
            "1/1 [==============================] - 0s 91ms/step\n"
          ]
        },
        {
          "output_type": "execute_result",
          "data": {
            "text/plain": [
              "{'elapsed_time': 0.12861371040344238,\n",
              " 'label': 'POSITIVE',\n",
              " 'score': 0.7011783719062805}"
            ]
          },
          "metadata": {},
          "execution_count": 44
        }
      ]
    },
    {
      "cell_type": "markdown",
      "metadata": {
        "id": "N-dKmQksUd7H"
      },
      "source": [
        "**Step 6.4.5: Show Confusion Matrix(Neural Network Model)**"
      ]
    },
    {
      "cell_type": "code",
      "execution_count": null,
      "metadata": {
        "id": "9yL4oF0AUgy_",
        "colab": {
          "base_uri": "https://localhost:8080/"
        },
        "outputId": "e1c96942-7fb7-4bc3-e9ca-962760776d4e"
      },
      "outputs": [
        {
          "output_type": "stream",
          "name": "stdout",
          "text": [
            "40/40 [==============================] - 17s 414ms/step\n",
            "CPU times: user 10.5 s, sys: 3.52 s, total: 14 s\n",
            "Wall time: 21.1 s\n"
          ]
        }
      ],
      "source": [
        "%%time\n",
        "y_pred_1d = []\n",
        "y_test_1d = list(df_test.target)\n",
        "scores = model.predict(x_test, verbose=1, batch_size=8000)\n",
        "y_pred_1d = [decode_sentiment(score, include_neutral=False) for score in scores]"
      ]
    },
    {
      "cell_type": "code",
      "execution_count": null,
      "metadata": {
        "id": "__eARKJCUi35"
      },
      "outputs": [],
      "source": [
        "def plot_confusion_matrix(cm, classes,\n",
        "                          title='Confusion matrix',\n",
        "                          cmap=plt.cm.Blues):\n",
        "    \"\"\"\n",
        "    This function prints and plots the confusion matrix.\n",
        "    Normalization can be applied by setting `normalize=True`.\n",
        "    \"\"\"\n",
        "\n",
        "    cm = cm.astype('float') / cm.sum(axis=1)[:, np.newaxis]\n",
        "\n",
        "    plt.imshow(cm, interpolation='nearest', cmap=cmap)\n",
        "    plt.title(title, fontsize=30)\n",
        "    plt.colorbar()\n",
        "    tick_marks = np.arange(len(classes))\n",
        "    plt.xticks(tick_marks, classes, rotation=90, fontsize=22)\n",
        "    plt.yticks(tick_marks, classes, fontsize=22)\n",
        "\n",
        "    fmt = '.2f'\n",
        "    thresh = cm.max() / 2.\n",
        "    for i, j in itertools.product(range(cm.shape[0]), range(cm.shape[1])):\n",
        "        plt.text(j, i, format(cm[i, j], fmt),\n",
        "                 horizontalalignment=\"center\",\n",
        "                 color=\"white\" if cm[i, j] > thresh else \"black\")\n",
        "\n",
        "    plt.ylabel('True label', fontsize=25)\n",
        "    plt.xlabel('Predicted label', fontsize=25)"
      ]
    },
    {
      "cell_type": "code",
      "execution_count": null,
      "metadata": {
        "id": "5ve-iE_6Uklx",
        "outputId": "dc3e8b02-edc2-479b-a20c-ed83714d96f9",
        "colab": {
          "base_uri": "https://localhost:8080/"
        }
      },
      "outputs": [
        {
          "output_type": "display_data",
          "data": {
            "text/plain": [
              "<Figure size 864x864 with 2 Axes>"
            ],
            "image/png": "[encoded data removed]"
          },
          "metadata": {
            "needs_background": "light"
          }
        },
        {
          "output_type": "stream",
          "name": "stdout",
          "text": [
            "CPU times: user 1.19 s, sys: 20.3 ms, total: 1.21 s\n",
            "Wall time: 1.2 s\n"
          ]
        }
      ],
      "source": [
        "%%time\n",
        "\n",
        "cnf_matrix = confusion_matrix(y_test_1d, y_pred_1d)\n",
        "plt.figure(figsize=(12,12))\n",
        "plot_confusion_matrix(cnf_matrix, classes=df_train.target.unique(), title=\"Confusion matrix\")\n",
        "plt.show()"
      ]
    },
    {
      "cell_type": "markdown",
      "metadata": {
        "id": "yr4rPTMVUmmj"
      },
      "source": [
        "**Step 6.4.6: Show Classification Report(Neural Network Model)**"
      ]
    },
    {
      "cell_type": "code",
      "execution_count": null,
      "metadata": {
        "id": "nMVkLGTOUnJn",
        "outputId": "94b7c1b6-56d7-454d-a8ec-d4ea563946ad",
        "colab": {
          "base_uri": "https://localhost:8080/"
        }
      },
      "outputs": [
        {
          "output_type": "stream",
          "name": "stdout",
          "text": [
            "              precision    recall  f1-score   support\n",
            "\n",
            "    NEGATIVE       0.79      0.78      0.78    159494\n",
            "    POSITIVE       0.78      0.80      0.79    160506\n",
            "\n",
            "    accuracy                           0.79    320000\n",
            "   macro avg       0.79      0.79      0.79    320000\n",
            "weighted avg       0.79      0.79      0.79    320000\n",
            "\n"
          ]
        }
      ],
      "source": [
        "print(classification_report(y_test_1d, y_pred_1d))"
      ]
    },
    {
      "cell_type": "markdown",
      "metadata": {
        "id": "qN3JzNSuUqK7"
      },
      "source": [
        "**Step 6.4.7: Show Accuracy Score(Neural Network Model)**"
      ]
    },
    {
      "cell_type": "code",
      "execution_count": null,
      "metadata": {
        "id": "JmmYHLRhUrZF",
        "outputId": "96d8277d-4967-454a-914f-3bad07a1ffda",
        "colab": {
          "base_uri": "https://localhost:8080/"
        }
      },
      "outputs": [
        {
          "output_type": "execute_result",
          "data": {
            "text/plain": [
              "0.78741875"
            ]
          },
          "metadata": {},
          "execution_count": 55
        }
      ],
      "source": [
        "accuracy_score(y_test_1d, y_pred_1d)"
      ]
    },
    {
      "cell_type": "markdown",
      "metadata": {
        "id": "W_rQ-GLpUtH6"
      },
      "source": [
        "**Step 6.4.8: Save model**"
      ]
    },
    {
      "cell_type": "code",
      "execution_count": null,
      "metadata": {
        "id": "sxEaKqhKUvEn",
        "colab": {
          "base_uri": "https://localhost:8080/"
        },
        "outputId": "15f9260e-667e-4955-b998-1f0284fa8af7"
      },
      "outputs": [
        {
          "output_type": "stream",
          "name": "stderr",
          "text": [
            "2022-05-30 12:22:15,339 : INFO : Word2Vec lifecycle event {'fname_or_handle': 'model.w2v', 'separately': 'None', 'sep_limit': 10485760, 'ignore': frozenset(), 'datetime': '2022-05-30T12:22:15.339742', 'gensim': '4.2.0', 'python': '3.7.13 (default, Apr 24 2022, 01:04:09) \\n[GCC 7.5.0]', 'platform': 'Linux-5.4.188+-x86_64-with-Ubuntu-18.04-bionic', 'event': 'saving'}\n",
            "2022-05-30 12:22:15,342 : INFO : not storing attribute cum_table\n",
            "2022-05-30 12:22:15,433 : INFO : saved model.w2v\n"
          ]
        }
      ],
      "source": [
        "model.save(KERAS_MODEL)\n",
        "w2v_model.save(WORD2VEC_MODEL)\n",
        "pickle.dump(tokenizer, open(TOKENIZER_MODEL, \"wb\"), protocol=0)\n",
        "pickle.dump(encoder, open(ENCODER_MODEL, \"wb\"), protocol=0)"
      ]
    },
    {
      "cell_type": "markdown",
      "metadata": {
        "id": "bxnt9NijUy3l"
      },
      "source": [
        "Credit: https://www.kaggle.com/code/paoloripamonti/twitter-sentiment-analysis"
      ]
    }
  ],
  "metadata": {
    "colab": {
      "provenance": [],
      "machine_shape": "hm",
      "collapsed_sections": []
    },
    "kernelspec": {
      "display_name": "Python 3",
      "name": "python3"
    },
    "language_info": {
      "name": "python"
    },
    "accelerator": "GPU"
  },
  "nbformat": 4,
  "nbformat_minor": 0
}